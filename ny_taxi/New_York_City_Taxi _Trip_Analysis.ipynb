{
 "cells": [
  {
   "cell_type": "markdown",
   "metadata": {},
   "source": [
    "# New York City Taxi Analysis\n",
    "---\n",
    "\n",
    "### Introduction\n",
    "\n",
    "This notebook shows you how we can use exploratory data analysis and machine learning for predicting breast cancers. All our models are built using  New York City Taxi dataset."
   ]
  },
  {
   "cell_type": "markdown",
   "metadata": {},
   "source": [
    "### Loading Necessary Tools (Python/Numpy, Pandas, Scikit-Learn, LGBM, and etc.) "
   ]
  },
  {
   "cell_type": "code",
   "execution_count": 1,
   "metadata": {},
   "outputs": [
    {
     "name": "stdout",
     "output_type": "stream",
     "text": [
      "Numpy version: 1.13.3\n",
      "Pandas version: 0.20.3\n",
      "Light Gradient Booting version: 2.1.0\n"
     ]
    }
   ],
   "source": [
    "import numpy as np\n",
    "import pandas as pd\n",
    "import lightgbm as lgb\n",
    "import matplotlib.pyplot as plt\n",
    "import seaborn as sns\n",
    "\n",
    "sns.set()\n",
    "\n",
    "print('Numpy version: {}'.format(np.__version__))\n",
    "print('Pandas version: {}'.format(pd.__version__))\n",
    "print('Light Gradient Booting version: {}'.format(lgb.__version__))\n",
    "\n",
    "%matplotlib inline\n",
    "\n",
    "import warnings\n",
    "warnings.filterwarnings('ignore')"
   ]
  },
  {
   "cell_type": "markdown",
   "metadata": {},
   "source": [
    "### Loading the Dataset\n",
    "\n",
    "Next, we are going to load the dataset as a Pandas data frame (DataFrame). In ML model building, it is the best practice to keep the testing dataset aside and it should not be mixed with training dataset. So as the very first step, we split our dataset into training and testing subsets.\n",
    "\n",
    "We are going to use **80 percent** (i.e. **8000 data rows**) of the dataset for training and the rest (i.e. **2000 data rows**) for testing. "
   ]
  },
  {
   "cell_type": "code",
   "execution_count": 2,
   "metadata": {},
   "outputs": [
    {
     "name": "stdout",
     "output_type": "stream",
     "text": [
      "training dataset size: 8000\n",
      "testing dataset size: 2000\n"
     ]
    }
   ],
   "source": [
    "data = pd.read_csv('./data/yellow_tripdata_2016-01_10000rows.csv')\n",
    "data = data.sample(n=len(data))\n",
    "\n",
    "train_size = int(len(data)*0.8)\n",
    "test_size = len(data) - train_size\n",
    "\n",
    "assert len(data) == (train_size + test_size)\n",
    "print('training dataset size: {}'.format(train_size))\n",
    "print('testing dataset size: {}'.format(test_size))\n",
    "\n",
    "train = data.iloc[0:train_size]\n",
    "test = data.iloc[train_size:]\n",
    "\n",
    "assert len(data) == len(train) + len(test)"
   ]
  },
  {
   "cell_type": "markdown",
   "metadata": {},
   "source": [
    "As you know real-world datasets come with missing values  (or measurements). So, first of all, we need to check this dataset contains null or missing values. If it has missing values, proper data imputation techniques need to be applied.\n",
    "\n",
    "I'm going to use **Panda's** **`isnull()`** for testing null/missing values."
   ]
  },
  {
   "cell_type": "code",
   "execution_count": 3,
   "metadata": {
    "collapsed": true
   },
   "outputs": [],
   "source": [
    "assert train.isnull().values.any() == False\n",
    "assert test.isnull().values.any() == False"
   ]
  },
  {
   "cell_type": "markdown",
   "metadata": {},
   "source": [
    "Great, this dataset doesn't have any missing values so we don't need to use data imputation techniques. If it contains missing values I might be using one or more following techniques.\n",
    "\n",
    "1. **Impute missing values with mean**: Usually, this is suitable for numerical features.\n",
    "2. **Impute missing values with median**: This approach is more appropriate for categorical features.\n",
    "3. **EM algorithm based approaches**: Bit advanced but very useful tool for missing value imputation."
   ]
  },
  {
   "cell_type": "markdown",
   "metadata": {},
   "source": [
    "### Create Response Variable\n",
    "\n",
    "In this analysis, we are going to predict taxi trip duration using available data. So we create our response variable using **tpep_pickup_datetime** and **tpep_dropoff_datetime**."
   ]
  },
  {
   "cell_type": "code",
   "execution_count": 4,
   "metadata": {},
   "outputs": [],
   "source": [
    "from datetime import datetime\n",
    "\n",
    "fmt = '%m/%d/%Y %H:%M'\n",
    "\n",
    "def calculate_trip_duration(row):\n",
    "    start = datetime.strptime(row['tpep_pickup_datetime'], fmt)\n",
    "    end = datetime.strptime(row['tpep_dropoff_datetime'], fmt)\n",
    "    return (end - start).seconds / 60.0\n",
    "\n",
    "train['trip_time'] = train.apply(calculate_trip_duration, axis=1)\n",
    "test['trip_time'] = test.apply(calculate_trip_duration, axis=1)"
   ]
  },
  {
   "cell_type": "markdown",
   "metadata": {},
   "source": [
    "### Exploratory Data Analysis and Visualization\n",
    "\n",
    "Exploratory data analysis helps us to understand the nature of the training dataset. Also, it is a great tool to understand the relationships between different features of the dataset."
   ]
  },
  {
   "cell_type": "markdown",
   "metadata": {},
   "source": [
    "### Distribution of  Response Variable (Taxi Trip Duration)\n",
    "\n",
    "As the first step of our exploratory data analysis, we plot the distribution of taxi trip durations measured in minutes. "
   ]
  },
  {
   "cell_type": "code",
   "execution_count": 5,
   "metadata": {},
   "outputs": [
    {
     "data": {
      "image/png": "[encoded data removed]",
      "text/plain": [
       "<matplotlib.figure.Figure at 0x7f0824842898>"
      ]
     },
     "metadata": {},
     "output_type": "display_data"
    }
   ],
   "source": [
    "f, axes = plt.subplots(1, 1)\n",
    "f.set_size_inches(7, 5)\n",
    "\n",
    "sns.boxplot(train['trip_time'])\n",
    "plt.tight_layout()\n",
    "plt.show()"
   ]
  },
  {
   "cell_type": "markdown",
   "metadata": {},
   "source": [
    "Above graph clearly shows we have few **outliers**. So let's remove those and redraw the graph again. "
   ]
  },
  {
   "cell_type": "code",
   "execution_count": 6,
   "metadata": {
    "collapsed": true
   },
   "outputs": [],
   "source": [
    "train = train.drop(train[train.trip_time > 120].index)\n",
    "test = test.drop(test[test.trip_time > 120].index)"
   ]
  },
  {
   "cell_type": "code",
   "execution_count": 7,
   "metadata": {},
   "outputs": [
    {
     "data": {
      "image/png": "[encoded data removed]",
      "text/plain": [
       "<matplotlib.figure.Figure at 0x7f07f6c25b38>"
      ]
     },
     "metadata": {},
     "output_type": "display_data"
    }
   ],
   "source": [
    "f, axes = plt.subplots(1, 1)\n",
    "f.set_size_inches(7, 5)\n",
    "\n",
    "sns.boxplot(test['trip_time'])\n",
    "plt.tight_layout()\n",
    "plt.show()"
   ]
  },
  {
   "cell_type": "markdown",
   "metadata": {},
   "source": [
    "Now response variables look OK."
   ]
  },
  {
   "cell_type": "markdown",
   "metadata": {},
   "source": [
    "### Various Plots to Identify Good Features and Relationship Between Features\n",
    "\n",
    "We can use the following three plots to identify quality (in terms of predictive power) features for our model building process. Also, it is worth to note that, for real-world projects, we might use a lot more plots and visualizations than we presented in this notebook."
   ]
  },
  {
   "cell_type": "code",
   "execution_count": 8,
   "metadata": {},
   "outputs": [
    {
     "data": {
      "image/png": "[encoded data removed]",
      "text/plain": [
       "<matplotlib.figure.Figure at 0x7f07f6d596a0>"
      ]
     },
     "metadata": {},
     "output_type": "display_data"
    }
   ],
   "source": [
    "f, axes = plt.subplots(1, 1)\n",
    "f.set_size_inches(7, 5)\n",
    "\n",
    "sns.boxplot(train['trip_distance'])\n",
    "plt.tight_layout()\n",
    "plt.show()"
   ]
  },
  {
   "cell_type": "code",
   "execution_count": 9,
   "metadata": {},
   "outputs": [
    {
     "data": {
      "text/html": [
       "<div>\n",
       "<style>\n",
       "    .dataframe thead tr:only-child th {\n",
       "        text-align: right;\n",
       "    }\n",
       "\n",
       "    .dataframe thead th {\n",
       "        text-align: left;\n",
       "    }\n",
       "\n",
       "    .dataframe tbody tr th {\n",
       "        vertical-align: top;\n",
       "    }\n",
       "</style>\n",
       "<table border=\"1\" class=\"dataframe\">\n",
       "  <thead>\n",
       "    <tr style=\"text-align: right;\">\n",
       "      <th></th>\n",
       "      <th>VendorID</th>\n",
       "      <th>tpep_pickup_datetime</th>\n",
       "      <th>tpep_dropoff_datetime</th>\n",
       "      <th>passenger_count</th>\n",
       "      <th>trip_distance</th>\n",
       "      <th>pickup_longitude</th>\n",
       "      <th>pickup_latitude</th>\n",
       "      <th>RatecodeID</th>\n",
       "      <th>store_and_fwd_flag</th>\n",
       "      <th>dropoff_longitude</th>\n",
       "      <th>dropoff_latitude</th>\n",
       "      <th>payment_type</th>\n",
       "      <th>fare_amount</th>\n",
       "      <th>extra</th>\n",
       "      <th>mta_tax</th>\n",
       "      <th>tip_amount</th>\n",
       "      <th>tolls_amount</th>\n",
       "      <th>improvement_surcharge</th>\n",
       "      <th>total_amount</th>\n",
       "    </tr>\n",
       "  </thead>\n",
       "  <tbody>\n",
       "    <tr>\n",
       "      <th>8555</th>\n",
       "      <td>1</td>\n",
       "      <td>1/28/2016 7:32</td>\n",
       "      <td>1/28/2016 7:37</td>\n",
       "      <td>1</td>\n",
       "      <td>0.80</td>\n",
       "      <td>-73.991997</td>\n",
       "      <td>40.749897</td>\n",
       "      <td>1</td>\n",
       "      <td>N</td>\n",
       "      <td>-73.987679</td>\n",
       "      <td>40.741196</td>\n",
       "      <td>1</td>\n",
       "      <td>5.5</td>\n",
       "      <td>0.0</td>\n",
       "      <td>0.5</td>\n",
       "      <td>1.00</td>\n",
       "      <td>0.0</td>\n",
       "      <td>0.3</td>\n",
       "      <td>7.30</td>\n",
       "    </tr>\n",
       "    <tr>\n",
       "      <th>9913</th>\n",
       "      <td>1</td>\n",
       "      <td>1/31/2016 17:53</td>\n",
       "      <td>1/31/2016 18:11</td>\n",
       "      <td>1</td>\n",
       "      <td>2.70</td>\n",
       "      <td>-73.990143</td>\n",
       "      <td>40.719318</td>\n",
       "      <td>1</td>\n",
       "      <td>N</td>\n",
       "      <td>-74.002281</td>\n",
       "      <td>40.745220</td>\n",
       "      <td>1</td>\n",
       "      <td>13.5</td>\n",
       "      <td>1.0</td>\n",
       "      <td>0.5</td>\n",
       "      <td>1.50</td>\n",
       "      <td>0.0</td>\n",
       "      <td>0.3</td>\n",
       "      <td>16.80</td>\n",
       "    </tr>\n",
       "    <tr>\n",
       "      <th>4</th>\n",
       "      <td>2</td>\n",
       "      <td>1/1/2016 0:30</td>\n",
       "      <td>1/1/2016 0:35</td>\n",
       "      <td>4</td>\n",
       "      <td>1.24</td>\n",
       "      <td>-73.990303</td>\n",
       "      <td>40.719032</td>\n",
       "      <td>1</td>\n",
       "      <td>N</td>\n",
       "      <td>-73.980408</td>\n",
       "      <td>40.734283</td>\n",
       "      <td>1</td>\n",
       "      <td>6.0</td>\n",
       "      <td>0.5</td>\n",
       "      <td>0.5</td>\n",
       "      <td>1.00</td>\n",
       "      <td>0.0</td>\n",
       "      <td>0.3</td>\n",
       "      <td>8.30</td>\n",
       "    </tr>\n",
       "    <tr>\n",
       "      <th>6170</th>\n",
       "      <td>2</td>\n",
       "      <td>1/19/2016 13:46</td>\n",
       "      <td>1/19/2016 14:06</td>\n",
       "      <td>1</td>\n",
       "      <td>2.85</td>\n",
       "      <td>-73.971458</td>\n",
       "      <td>40.757702</td>\n",
       "      <td>1</td>\n",
       "      <td>N</td>\n",
       "      <td>-74.004684</td>\n",
       "      <td>40.743195</td>\n",
       "      <td>1</td>\n",
       "      <td>14.5</td>\n",
       "      <td>0.0</td>\n",
       "      <td>0.5</td>\n",
       "      <td>1.55</td>\n",
       "      <td>0.0</td>\n",
       "      <td>0.3</td>\n",
       "      <td>16.85</td>\n",
       "    </tr>\n",
       "    <tr>\n",
       "      <th>2843</th>\n",
       "      <td>1</td>\n",
       "      <td>1/9/2016 19:23</td>\n",
       "      <td>1/9/2016 19:49</td>\n",
       "      <td>1</td>\n",
       "      <td>6.20</td>\n",
       "      <td>-73.949776</td>\n",
       "      <td>40.784618</td>\n",
       "      <td>1</td>\n",
       "      <td>N</td>\n",
       "      <td>-73.988258</td>\n",
       "      <td>40.720482</td>\n",
       "      <td>1</td>\n",
       "      <td>22.0</td>\n",
       "      <td>0.0</td>\n",
       "      <td>0.5</td>\n",
       "      <td>3.00</td>\n",
       "      <td>0.0</td>\n",
       "      <td>0.3</td>\n",
       "      <td>25.80</td>\n",
       "    </tr>\n",
       "  </tbody>\n",
       "</table>\n",
       "</div>"
      ],
      "text/plain": [
       "      VendorID tpep_pickup_datetime tpep_dropoff_datetime  passenger_count  \\\n",
       "8555         1       1/28/2016 7:32        1/28/2016 7:37                1   \n",
       "9913         1      1/31/2016 17:53       1/31/2016 18:11                1   \n",
       "4            2        1/1/2016 0:30         1/1/2016 0:35                4   \n",
       "6170         2      1/19/2016 13:46       1/19/2016 14:06                1   \n",
       "2843         1       1/9/2016 19:23        1/9/2016 19:49                1   \n",
       "\n",
       "      trip_distance  pickup_longitude  pickup_latitude  RatecodeID  \\\n",
       "8555           0.80        -73.991997        40.749897           1   \n",
       "9913           2.70        -73.990143        40.719318           1   \n",
       "4              1.24        -73.990303        40.719032           1   \n",
       "6170           2.85        -73.971458        40.757702           1   \n",
       "2843           6.20        -73.949776        40.784618           1   \n",
       "\n",
       "     store_and_fwd_flag  dropoff_longitude  dropoff_latitude  payment_type  \\\n",
       "8555                  N         -73.987679         40.741196             1   \n",
       "9913                  N         -74.002281         40.745220             1   \n",
       "4                     N         -73.980408         40.734283             1   \n",
       "6170                  N         -74.004684         40.743195             1   \n",
       "2843                  N         -73.988258         40.720482             1   \n",
       "\n",
       "      fare_amount  extra  mta_tax  tip_amount  tolls_amount  \\\n",
       "8555          5.5    0.0      0.5        1.00           0.0   \n",
       "9913         13.5    1.0      0.5        1.50           0.0   \n",
       "4             6.0    0.5      0.5        1.00           0.0   \n",
       "6170         14.5    0.0      0.5        1.55           0.0   \n",
       "2843         22.0    0.0      0.5        3.00           0.0   \n",
       "\n",
       "      improvement_surcharge  total_amount  \n",
       "8555                    0.3          7.30  \n",
       "9913                    0.3         16.80  \n",
       "4                       0.3          8.30  \n",
       "6170                    0.3         16.85  \n",
       "2843                    0.3         25.80  "
      ]
     },
     "execution_count": 9,
     "metadata": {},
     "output_type": "execute_result"
    }
   ],
   "source": [
    "data.head(5)"
   ]
  },
  {
   "cell_type": "markdown",
   "metadata": {},
   "source": [
    "### Exploratory Data Analysis and Visualization\n",
    "\n",
    "Exploratory data analysis helps us to understand the nature of the training dataset. Also, it is a great tool to understands the relationships between different features of the dataset.\n",
    "\n",
    "#### Scatter Plot: Pickup Points"
   ]
  },
  {
   "cell_type": "code",
   "execution_count": 10,
   "metadata": {},
   "outputs": [
    {
     "data": {
      "image/png": "[encoded data removed]",
      "text/plain": [
       "<matplotlib.figure.Figure at 0x7f07f6d21780>"
      ]
     },
     "metadata": {},
     "output_type": "display_data"
    }
   ],
   "source": [
    "f, axes = plt.subplots(1, 2)\n",
    "f.set_size_inches(12, 7)\n",
    "axes[0].scatter(train.pickup_longitude, train.pickup_latitude)\n",
    "axes[0].set(title='Distribution of Pickup Points', xlabel='pickup longitude', ylabel='pickup latitude')\n",
    "\n",
    "axes[1].scatter(train.dropoff_longitude, train.dropoff_latitude)\n",
    "axes[1].set(title='Distribution of Dropoff Points', xlabel='dropoff longitude', ylabel='dropoff latitude')\n",
    "\n",
    "plt.show()"
   ]
  },
  {
   "cell_type": "markdown",
   "metadata": {},
   "source": [
    "So it looks like we have few **outliers** based on the longitude and altitude data. So let's further clean our dataset.  "
   ]
  },
  {
   "cell_type": "code",
   "execution_count": 11,
   "metadata": {
    "collapsed": true
   },
   "outputs": [],
   "source": [
    "cond_1 = (train.dropoff_longitude > -73.5) \n",
    "cond_2 = (train.dropoff_latitude < 40.5 )\n",
    "train = train.drop(train[cond_1 & cond_2].index)\n",
    "\n",
    "cond_3 = (train.dropoff_longitude > -73.5) \n",
    "cond_4 = (train.dropoff_latitude < 40.5 )\n",
    "train = train.drop(train[cond_3 & cond_4].index)"
   ]
  },
  {
   "cell_type": "code",
   "execution_count": 12,
   "metadata": {},
   "outputs": [
    {
     "data": {
      "image/png": "[encoded data removed]",
      "text/plain": [
       "<matplotlib.figure.Figure at 0x7f07f681fc50>"
      ]
     },
     "metadata": {},
     "output_type": "display_data"
    }
   ],
   "source": [
    "f, axes = plt.subplots(1, 2)\n",
    "f.set_size_inches(12, 7)\n",
    "axes[0].scatter(train.pickup_longitude, train.pickup_latitude)\n",
    "axes[0].set(title='Distribution of Pickup Points', xlabel='pickup longitude', ylabel='pickup latitude')\n",
    "\n",
    "axes[1].scatter(train.dropoff_longitude, train.dropoff_latitude)\n",
    "axes[1].set(title='Distribution of Dropoff Points', xlabel='dropoff longitude', ylabel='dropoff latitude')\n",
    "\n",
    "plt.show()"
   ]
  },
  {
   "cell_type": "markdown",
   "metadata": {},
   "source": [
    "Great, now data looks OK in terms of longitudes and altitudes "
   ]
  },
  {
   "cell_type": "code",
   "execution_count": null,
   "metadata": {
    "collapsed": true
   },
   "outputs": [],
   "source": []
  }
 ],
 "metadata": {
  "kernelspec": {
   "display_name": "Python 3",
   "language": "python",
   "name": "python3"
  },
  "language_info": {
   "codemirror_mode": {
    "name": "ipython",
    "version": 3
   },
   "file_extension": ".py",
   "mimetype": "text/x-python",
   "name": "python",
   "nbconvert_exporter": "python",
   "pygments_lexer": "ipython3",
   "version": "3.6.3"
  }
 },
 "nbformat": 4,
 "nbformat_minor": 2
}
