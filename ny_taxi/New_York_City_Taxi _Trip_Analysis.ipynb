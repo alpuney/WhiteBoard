{
 "cells": [
  {
   "cell_type": "markdown",
   "metadata": {},
   "source": [
    "# New York City Taxi Analysis\n",
    "---\n",
    "\n",
    "### Introduction\n",
    "\n",
    "This notebook shows you how we can use exploratory data analysis and machine learning for predicting breast cancers. All our models are built using  New York City Taxi dataset."
   ]
  },
  {
   "cell_type": "markdown",
   "metadata": {},
   "source": [
    "### Loading Necessary Tools (Python/Numpy, Pandas, Scikit-Learn, LGBM, and etc.) "
   ]
  },
  {
   "cell_type": "code",
   "execution_count": 1,
   "metadata": {},
   "outputs": [
    {
     "name": "stdout",
     "output_type": "stream",
     "text": [
      "Numpy version: 1.13.3\n",
      "Pandas version: 0.20.3\n",
      "Light Gradient Booting version: 2.1.0\n"
     ]
    }
   ],
   "source": [
    "import numpy as np\n",
    "import pandas as pd\n",
    "import lightgbm as lgb\n",
    "import matplotlib.pyplot as plt\n",
    "import seaborn as sns\n",
    "\n",
    "sns.set()\n",
    "\n",
    "print('Numpy version: {}'.format(np.__version__))\n",
    "print('Pandas version: {}'.format(pd.__version__))\n",
    "print('Light Gradient Booting version: {}'.format(lgb.__version__))\n",
    "\n",
    "%matplotlib inline"
   ]
  },
  {
   "cell_type": "markdown",
   "metadata": {},
   "source": [
    "### Loading the Dataset\n",
    "\n",
    "Next, we are going to load the dataset as a Pandas data frame (DataFrame). In ML model building, it is the best practice to keep the testing dataset aside and it should not be mixed with training dataset. So as the very first step, we split our dataset into training and testing subsets.\n",
    "\n",
    "We are going to use **80 percent** (i.e. **8000 data rows**) of the dataset for training and the rest (i.e. **2000 data rows**) for testing. "
   ]
  },
  {
   "cell_type": "code",
   "execution_count": 2,
   "metadata": {},
   "outputs": [
    {
     "name": "stdout",
     "output_type": "stream",
     "text": [
      "training dataset size: 8000\n",
      "testing dataset size: 2000\n"
     ]
    }
   ],
   "source": [
    "data = pd.read_csv('./data/yellow_tripdata_2016-01_10000rows.csv')\n",
    "data = data.sample(n=len(data))\n",
    "\n",
    "train_size = int(len(data)*0.8)\n",
    "test_size = len(data) - train_size\n",
    "\n",
    "assert len(data) == (train_size + test_size)\n",
    "print('training dataset size: {}'.format(train_size))\n",
    "print('testing dataset size: {}'.format(test_size))\n",
    "\n",
    "train = data.iloc[0:train_size]\n",
    "test = data.iloc[train_size:]\n",
    "\n",
    "assert len(data) == len(train) + len(test)"
   ]
  },
  {
   "cell_type": "markdown",
   "metadata": {},
   "source": [
    "As you know real-world datasets come with missing values  (or measurements). So, first of all, we need to check this dataset contains null or missing values. If it has missing values, proper data imputation techniques need to be applied.\n",
    "\n",
    "I'm going to use **Panda's** **`isnull()`** for testing null/missing values."
   ]
  },
  {
   "cell_type": "code",
   "execution_count": 3,
   "metadata": {},
   "outputs": [],
   "source": [
    "assert train.isnull().values.any() == False\n",
    "assert test.isnull().values.any() == False"
   ]
  },
  {
   "cell_type": "markdown",
   "metadata": {},
   "source": [
    "Great, this dataset doesn't have any missing values so we don't need to use data imputation techniques. If it contains missing values I might be using one or more following techniques.\n",
    "\n",
    "1. **Impute missing values with mean**: Usually, this is suitable for numerical features.\n",
    "2. **Impute missing values with median**: This approach is more appropriate for categorical features.\n",
    "3. **EM algorithm based approaches**: Bit advanced but very useful tool for missing value imputation."
   ]
  },
  {
   "cell_type": "markdown",
   "metadata": {},
   "source": [
    "### Create Response Variable\n",
    "\n",
    "In this analysis, we are going to predict taxi trip duration using available data. So we create our response variable using **tpep_pickup_datetime** and **tpep_dropoff_datetime**."
   ]
  },
  {
   "cell_type": "code",
   "execution_count": 4,
   "metadata": {},
   "outputs": [
    {
     "name": "stderr",
     "output_type": "stream",
     "text": [
      "/mnt/c/ubuntu/anaconda3/lib/python3.6/site-packages/ipykernel_launcher.py:10: SettingWithCopyWarning: \n",
      "A value is trying to be set on a copy of a slice from a DataFrame.\n",
      "Try using .loc[row_indexer,col_indexer] = value instead\n",
      "\n",
      "See the caveats in the documentation: http://pandas.pydata.org/pandas-docs/stable/indexing.html#indexing-view-versus-copy\n",
      "  # Remove the CWD from sys.path while we load stuff.\n",
      "/mnt/c/ubuntu/anaconda3/lib/python3.6/site-packages/ipykernel_launcher.py:11: SettingWithCopyWarning: \n",
      "A value is trying to be set on a copy of a slice from a DataFrame.\n",
      "Try using .loc[row_indexer,col_indexer] = value instead\n",
      "\n",
      "See the caveats in the documentation: http://pandas.pydata.org/pandas-docs/stable/indexing.html#indexing-view-versus-copy\n",
      "  # This is added back by InteractiveShellApp.init_path()\n"
     ]
    }
   ],
   "source": [
    "from datetime import datetime\n",
    "\n",
    "fmt = '%m/%d/%Y %H:%M'\n",
    "\n",
    "def calculate_trip_duration(row):\n",
    "    start = datetime.strptime(row['tpep_pickup_datetime'], fmt)\n",
    "    end = datetime.strptime(row['tpep_dropoff_datetime'], fmt)\n",
    "    return (end - start).seconds / 60.0\n",
    "\n",
    "train['trip_time'] = train.apply(calculate_trip_duration, axis=1)\n",
    "test['trip_time'] = test.apply(calculate_trip_duration, axis=1)"
   ]
  },
  {
   "cell_type": "markdown",
   "metadata": {},
   "source": [
    "### Exploratory Data Analysis and Visualization\n",
    "\n",
    "Exploratory data analysis helps us to understand the nature of the training dataset. Also, it is a great tool to understand the relationships between different features of the dataset."
   ]
  },
  {
   "cell_type": "markdown",
   "metadata": {},
   "source": [
    "### Distribution of  Response Variable (Taxi Trip Duration)\n",
    "\n",
    "As the first step of our exploratory data analysis, we plot the distribution of taxi trip durations measured in minutes. "
   ]
  },
  {
   "cell_type": "code",
   "execution_count": 5,
   "metadata": {},
   "outputs": [
    {
     "data": {
      "image/png": "[encoded data removed]",
      "text/plain": [
       "<matplotlib.figure.Figure at 0x7fd6c06042e8>"
      ]
     },
     "metadata": {},
     "output_type": "display_data"
    }
   ],
   "source": [
    "f, axes = plt.subplots(1, 1)\n",
    "f.set_size_inches(7, 5)\n",
    "\n",
    "sns.boxplot(train['trip_time'])\n",
    "plt.tight_layout()\n",
    "plt.show()"
   ]
  },
  {
   "cell_type": "markdown",
   "metadata": {},
   "source": [
    "Above graph clearly shows we have few **outliers**. So let's remove those and redraw the graph again. "
   ]
  },
  {
   "cell_type": "code",
   "execution_count": 6,
   "metadata": {},
   "outputs": [],
   "source": [
    "train = train.drop(train[train.trip_time > 120].index)\n",
    "test = test.drop(test[test.trip_time > 120].index)"
   ]
  },
  {
   "cell_type": "code",
   "execution_count": 7,
   "metadata": {},
   "outputs": [
    {
     "data": {
      "image/png": "[encoded data removed]",
      "text/plain": [
       "<matplotlib.figure.Figure at 0x7fd6a761efd0>"
      ]
     },
     "metadata": {},
     "output_type": "display_data"
    }
   ],
   "source": [
    "f, axes = plt.subplots(1, 1)\n",
    "f.set_size_inches(7, 5)\n",
    "\n",
    "sns.boxplot(test['trip_time'])\n",
    "plt.tight_layout()\n",
    "plt.show()"
   ]
  },
  {
   "cell_type": "markdown",
   "metadata": {},
   "source": [
    "Now response variables look OK."
   ]
  },
  {
   "cell_type": "markdown",
   "metadata": {},
   "source": [
    "### Various Plots to Identify Good Features and Relationship Between Features\n",
    "\n",
    "We can use the following three plots to identify quality (in terms of predictive power) features for our model building process. Also, it is worth to note that, for real-world projects, we might use a lot more plots and visualizations than we presented in this notebook."
   ]
  },
  {
   "cell_type": "code",
   "execution_count": 8,
   "metadata": {},
   "outputs": [
    {
     "data": {
      "image/png": "[encoded data removed]",
      "text/plain": [
       "<matplotlib.figure.Figure at 0x7fd690ac7ba8>"
      ]
     },
     "metadata": {},
     "output_type": "display_data"
    }
   ],
   "source": [
    "f, axes = plt.subplots(1, 1)\n",
    "f.set_size_inches(7, 5)\n",
    "\n",
    "sns.boxplot(train['trip_distance'])\n",
    "plt.tight_layout()\n",
    "plt.show()"
   ]
  },
  {
   "cell_type": "code",
   "execution_count": 9,
   "metadata": {},
   "outputs": [
    {
     "data": {
      "text/html": [
       "<div>\n",
       "<style>\n",
       "    .dataframe thead tr:only-child th {\n",
       "        text-align: right;\n",
       "    }\n",
       "\n",
       "    .dataframe thead th {\n",
       "        text-align: left;\n",
       "    }\n",
       "\n",
       "    .dataframe tbody tr th {\n",
       "        vertical-align: top;\n",
       "    }\n",
       "</style>\n",
       "<table border=\"1\" class=\"dataframe\">\n",
       "  <thead>\n",
       "    <tr style=\"text-align: right;\">\n",
       "      <th></th>\n",
       "      <th>VendorID</th>\n",
       "      <th>tpep_pickup_datetime</th>\n",
       "      <th>tpep_dropoff_datetime</th>\n",
       "      <th>passenger_count</th>\n",
       "      <th>trip_distance</th>\n",
       "      <th>pickup_longitude</th>\n",
       "      <th>pickup_latitude</th>\n",
       "      <th>RatecodeID</th>\n",
       "      <th>store_and_fwd_flag</th>\n",
       "      <th>dropoff_longitude</th>\n",
       "      <th>dropoff_latitude</th>\n",
       "      <th>payment_type</th>\n",
       "      <th>fare_amount</th>\n",
       "      <th>extra</th>\n",
       "      <th>mta_tax</th>\n",
       "      <th>tip_amount</th>\n",
       "      <th>tolls_amount</th>\n",
       "      <th>improvement_surcharge</th>\n",
       "      <th>total_amount</th>\n",
       "    </tr>\n",
       "  </thead>\n",
       "  <tbody>\n",
       "    <tr>\n",
       "      <th>7142</th>\n",
       "      <td>1</td>\n",
       "      <td>1/22/2016 9:13</td>\n",
       "      <td>1/22/2016 9:23</td>\n",
       "      <td>1</td>\n",
       "      <td>1.20</td>\n",
       "      <td>-73.983490</td>\n",
       "      <td>40.754627</td>\n",
       "      <td>1</td>\n",
       "      <td>N</td>\n",
       "      <td>-73.999275</td>\n",
       "      <td>40.763283</td>\n",
       "      <td>2</td>\n",
       "      <td>8.0</td>\n",
       "      <td>0.0</td>\n",
       "      <td>0.5</td>\n",
       "      <td>0.00</td>\n",
       "      <td>0.0</td>\n",
       "      <td>0.3</td>\n",
       "      <td>8.80</td>\n",
       "    </tr>\n",
       "    <tr>\n",
       "      <th>4452</th>\n",
       "      <td>2</td>\n",
       "      <td>1/14/2016 14:57</td>\n",
       "      <td>1/14/2016 15:05</td>\n",
       "      <td>1</td>\n",
       "      <td>0.90</td>\n",
       "      <td>-73.956795</td>\n",
       "      <td>40.780777</td>\n",
       "      <td>1</td>\n",
       "      <td>N</td>\n",
       "      <td>-73.945137</td>\n",
       "      <td>40.774349</td>\n",
       "      <td>1</td>\n",
       "      <td>7.0</td>\n",
       "      <td>0.0</td>\n",
       "      <td>0.5</td>\n",
       "      <td>1.56</td>\n",
       "      <td>0.0</td>\n",
       "      <td>0.3</td>\n",
       "      <td>9.36</td>\n",
       "    </tr>\n",
       "    <tr>\n",
       "      <th>8580</th>\n",
       "      <td>2</td>\n",
       "      <td>1/28/2016 8:39</td>\n",
       "      <td>1/28/2016 9:06</td>\n",
       "      <td>3</td>\n",
       "      <td>3.23</td>\n",
       "      <td>-73.964943</td>\n",
       "      <td>40.806797</td>\n",
       "      <td>1</td>\n",
       "      <td>N</td>\n",
       "      <td>-73.963562</td>\n",
       "      <td>40.775211</td>\n",
       "      <td>2</td>\n",
       "      <td>18.5</td>\n",
       "      <td>0.0</td>\n",
       "      <td>0.5</td>\n",
       "      <td>0.00</td>\n",
       "      <td>0.0</td>\n",
       "      <td>0.3</td>\n",
       "      <td>19.30</td>\n",
       "    </tr>\n",
       "    <tr>\n",
       "      <th>2977</th>\n",
       "      <td>1</td>\n",
       "      <td>1/10/2016 1:56</td>\n",
       "      <td>1/10/2016 2:02</td>\n",
       "      <td>1</td>\n",
       "      <td>1.10</td>\n",
       "      <td>-74.003548</td>\n",
       "      <td>40.748306</td>\n",
       "      <td>1</td>\n",
       "      <td>N</td>\n",
       "      <td>-73.997070</td>\n",
       "      <td>40.737446</td>\n",
       "      <td>1</td>\n",
       "      <td>6.5</td>\n",
       "      <td>0.5</td>\n",
       "      <td>0.5</td>\n",
       "      <td>1.20</td>\n",
       "      <td>0.0</td>\n",
       "      <td>0.3</td>\n",
       "      <td>9.00</td>\n",
       "    </tr>\n",
       "    <tr>\n",
       "      <th>1902</th>\n",
       "      <td>2</td>\n",
       "      <td>1/7/2016 7:43</td>\n",
       "      <td>1/7/2016 7:49</td>\n",
       "      <td>1</td>\n",
       "      <td>1.28</td>\n",
       "      <td>-73.992310</td>\n",
       "      <td>40.745430</td>\n",
       "      <td>1</td>\n",
       "      <td>N</td>\n",
       "      <td>-73.982330</td>\n",
       "      <td>40.760220</td>\n",
       "      <td>1</td>\n",
       "      <td>6.5</td>\n",
       "      <td>0.0</td>\n",
       "      <td>0.5</td>\n",
       "      <td>1.11</td>\n",
       "      <td>0.0</td>\n",
       "      <td>0.3</td>\n",
       "      <td>8.41</td>\n",
       "    </tr>\n",
       "  </tbody>\n",
       "</table>\n",
       "</div>"
      ],
      "text/plain": [
       "      VendorID tpep_pickup_datetime tpep_dropoff_datetime  passenger_count  \\\n",
       "7142         1       1/22/2016 9:13        1/22/2016 9:23                1   \n",
       "4452         2      1/14/2016 14:57       1/14/2016 15:05                1   \n",
       "8580         2       1/28/2016 8:39        1/28/2016 9:06                3   \n",
       "2977         1       1/10/2016 1:56        1/10/2016 2:02                1   \n",
       "1902         2        1/7/2016 7:43         1/7/2016 7:49                1   \n",
       "\n",
       "      trip_distance  pickup_longitude  pickup_latitude  RatecodeID  \\\n",
       "7142           1.20        -73.983490        40.754627           1   \n",
       "4452           0.90        -73.956795        40.780777           1   \n",
       "8580           3.23        -73.964943        40.806797           1   \n",
       "2977           1.10        -74.003548        40.748306           1   \n",
       "1902           1.28        -73.992310        40.745430           1   \n",
       "\n",
       "     store_and_fwd_flag  dropoff_longitude  dropoff_latitude  payment_type  \\\n",
       "7142                  N         -73.999275         40.763283             2   \n",
       "4452                  N         -73.945137         40.774349             1   \n",
       "8580                  N         -73.963562         40.775211             2   \n",
       "2977                  N         -73.997070         40.737446             1   \n",
       "1902                  N         -73.982330         40.760220             1   \n",
       "\n",
       "      fare_amount  extra  mta_tax  tip_amount  tolls_amount  \\\n",
       "7142          8.0    0.0      0.5        0.00           0.0   \n",
       "4452          7.0    0.0      0.5        1.56           0.0   \n",
       "8580         18.5    0.0      0.5        0.00           0.0   \n",
       "2977          6.5    0.5      0.5        1.20           0.0   \n",
       "1902          6.5    0.0      0.5        1.11           0.0   \n",
       "\n",
       "      improvement_surcharge  total_amount  \n",
       "7142                    0.3          8.80  \n",
       "4452                    0.3          9.36  \n",
       "8580                    0.3         19.30  \n",
       "2977                    0.3          9.00  \n",
       "1902                    0.3          8.41  "
      ]
     },
     "execution_count": 9,
     "metadata": {},
     "output_type": "execute_result"
    }
   ],
   "source": [
    "data.head(5)"
   ]
  },
  {
   "cell_type": "markdown",
   "metadata": {},
   "source": [
    "### Exploratory Data Analysis and Visualization\n",
    "\n",
    "Exploratory data analysis helps us to understand the nature of the training dataset. Also, it is a great tool to understands the relationships between different features of the dataset.\n",
    "\n",
    "#### Scatter Plot: Pickup Points"
   ]
  },
  {
   "cell_type": "code",
   "execution_count": 10,
   "metadata": {},
   "outputs": [],
   "source": [
    "#sns.lmplot('pickup_longitude', 'pickup_latitude', \n",
    "           #data=train, fit_reg=False)    \n",
    "#plt.tight_layout()\n",
    "#plt.show()\n",
    "\n",
    "\n",
    "#independentindepen  = train.columns[2]\n",
    "#dependents =  train.columns[3:12].values\n",
    "\n",
    "#, axes = plt.subplots(22)\n",
    "#.set_size_inches(12, 7)\n",
    "\n",
    "#for i in range(len(dependents)):\n",
    "    #sns.regplot(x=independent, y=dependents[i], data=train, ax=axes[i//3, i%3])\n",
    "#ns.lmplot('pickup_longitude', 'pickup_latitude', ax=axes[1, 1],\n",
    "           #ata=train, fit_reg=False)   \n",
    "\n",
    "#lt.tight_layout()\n",
    "#lt.show()"
   ]
  },
  {
   "cell_type": "markdown",
   "metadata": {},
   "source": [
    "#### Scatter Plot: Pickup Points"
   ]
  },
  {
   "cell_type": "code",
   "execution_count": 11,
   "metadata": {},
   "outputs": [
    {
     "data": {
      "image/png": "[encoded data removed]",
      "text/plain": [
       "<matplotlib.figure.Figure at 0x7fd6909eb128>"
      ]
     },
     "metadata": {},
     "output_type": "display_data"
    }
   ],
   "source": [
    "sns.lmplot('dropoff_longitude', 'dropoff_latitude', data=train, fit_reg=False)\n",
    "plt.tight_layout()\n",
    "plt.show()"
   ]
  },
  {
   "cell_type": "markdown",
   "metadata": {},
   "source": [
    "So it looks like we have few outliers based on the longitude and altitude data. So let's further clean our dataset.  "
   ]
  },
  {
   "cell_type": "code",
   "execution_count": 12,
   "metadata": {},
   "outputs": [],
   "source": [
    "cond_1 = (train.dropoff_longitude > -73.5) \n",
    "cond_2 = (train.dropoff_latitude < 40.5 )\n",
    "train = train.drop(train[cond_1 & cond_2].index)\n",
    "\n",
    "cond_3 = (train.dropoff_longitude > -73.5) \n",
    "cond_4 = (train.dropoff_latitude < 40.5 )\n",
    "train = train.drop(train[cond_3 & cond_4].index)"
   ]
  },
  {
   "cell_type": "code",
   "execution_count": 13,
   "metadata": {},
   "outputs": [
    {
     "data": {
      "image/png": "[encoded data removed]",
      "text/plain": [
       "<matplotlib.figure.Figure at 0x7fd690a1ea58>"
      ]
     },
     "metadata": {},
     "output_type": "display_data"
    }
   ],
   "source": [
    "sns.lmplot('pickup_longitude', 'pickup_latitude', \n",
    "           data=train, fit_reg=False)    \n",
    "plt.tight_layout()\n",
    "plt.show()"
   ]
  },
  {
   "cell_type": "code",
   "execution_count": 14,
   "metadata": {},
   "outputs": [
    {
     "data": {
      "image/png": "[encoded data removed]",
      "text/plain": [
       "<matplotlib.figure.Figure at 0x7fd690530da0>"
      ]
     },
     "metadata": {},
     "output_type": "display_data"
    }
   ],
   "source": [
    "sns.lmplot('dropoff_longitude', 'dropoff_latitude', data=train, fit_reg=False)\n",
    "plt.tight_layout()\n",
    "plt.show()"
   ]
  },
  {
   "cell_type": "markdown",
   "metadata": {},
   "source": [
    "Great, now data looks OK in terms of longitudes and altitudes "
   ]
  },
  {
   "cell_type": "code",
   "execution_count": null,
   "metadata": {
    "collapsed": true
   },
   "outputs": [],
   "source": []
  }
 ],
 "metadata": {
  "kernelspec": {
   "display_name": "Python 3",
   "language": "python",
   "name": "python3"
  },
  "language_info": {
   "codemirror_mode": {
    "name": "ipython",
    "version": 3
   },
   "file_extension": ".py",
   "mimetype": "text/x-python",
   "name": "python",
   "nbconvert_exporter": "python",
   "pygments_lexer": "ipython3",
   "version": "3.6.3"
  }
 },
 "nbformat": 4,
 "nbformat_minor": 2
}
