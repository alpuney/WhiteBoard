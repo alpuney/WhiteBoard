{
 "cells": [
  {
   "cell_type": "code",
   "execution_count": 1,
   "metadata": {
    "collapsed": true
   },
   "outputs": [],
   "source": [
    "import numpy as np"
   ]
  },
  {
   "cell_type": "code",
   "execution_count": 2,
   "metadata": {
    "collapsed": true
   },
   "outputs": [],
   "source": [
    "np.random.seed(1)\n",
    "A_prev = np.random.randn(2, 4, 4, 3)\n",
    "hparameters = {\"stride\" : 2, \"f\": 3}"
   ]
  },
  {
   "cell_type": "code",
   "execution_count": 3,
   "metadata": {
    "collapsed": true
   },
   "outputs": [],
   "source": [
    "def get_im2col_indices(x_shape, field_height, field_width, padding=1, stride=1):\n",
    "    # First figure out what the size of the output should be\n",
    "    N, C, H, W = x_shape\n",
    "    assert (H + 2 * padding - field_height) % stride == 0\n",
    "    assert (W + 2 * padding - field_height) % stride == 0\n",
    "    out_height = int((H + 2 * padding - field_height) / stride + 1)\n",
    "    out_width = int((W + 2 * padding - field_width) / stride + 1)\n",
    "\n",
    "    i0 = np.repeat(np.arange(field_height), field_width)\n",
    "    i0 = np.tile(i0, C)\n",
    "    i1 = stride * np.repeat(np.arange(out_height), out_width)\n",
    "    j0 = np.tile(np.arange(field_width), field_height * C)\n",
    "    j1 = stride * np.tile(np.arange(out_width), out_height)\n",
    "    i = i0.reshape(-1, 1) + i1.reshape(1, -1)\n",
    "    j = j0.reshape(-1, 1) + j1.reshape(1, -1)\n",
    "\n",
    "    k = np.repeat(np.arange(C), field_height * field_width).reshape(-1, 1)\n",
    "\n",
    "    return (k.astype(int), i.astype(int), j.astype(int))\n",
    "\n",
    "\n",
    "def im2col_indices(x, field_height, field_width, padding=1, stride=1):\n",
    "    \"\"\" An implementation of im2col based on some fancy indexing \"\"\"\n",
    "    # Zero-pad the input\n",
    "    p = padding\n",
    "    x_padded = np.pad(x, ((0, 0), (0, 0), (p, p), (p, p)), mode='constant')\n",
    "\n",
    "    k, i, j = get_im2col_indices(x.shape, field_height, field_width, padding, stride)\n",
    "\n",
    "    cols = x_padded[:, k, i, j]\n",
    "    C = x.shape[1]\n",
    "    cols = cols.transpose(1, 2, 0).reshape(field_height * field_width * C, -1)\n",
    "    return cols\n",
    "\n",
    "\n",
    "def col2im_indices(cols, x_shape, field_height=3, field_width=3, padding=1,\n",
    "                   stride=1):\n",
    "    \"\"\" An implementation of col2im based on fancy indexing and np.add.at \"\"\"\n",
    "    N, C, H, W = x_shape\n",
    "    H_padded, W_padded = H + 2 * padding, W + 2 * padding\n",
    "    x_padded = np.zeros((N, C, H_padded, W_padded), dtype=cols.dtype)\n",
    "    k, i, j = get_im2col_indices(x_shape, field_height, field_width, padding, stride)\n",
    "    cols_reshaped = cols.reshape(C * field_height * field_width, -1, N)\n",
    "    cols_reshaped = cols_reshaped.transpose(2, 0, 1)\n",
    "    np.add.at(x_padded, (slice(None), k, i, j), cols_reshaped)\n",
    "    if padding == 0:\n",
    "        return x_padded\n",
    "    return x_padded[:, :, padding:-padding, padding:-padding]\n",
    "\n",
    "def conv_forward(X, W, b, stride=1, padding=1):\n",
    "    cache = W, b, stride, padding\n",
    "    n_filters, d_filter, h_filter, w_filter = W.shape\n",
    "    n_x, d_x, h_x, w_x = X.shape\n",
    "    h_out = (h_x - h_filter + 2 * padding) / stride + 1\n",
    "    w_out = (w_x - w_filter + 2 * padding) / stride + 1\n",
    "\n",
    "    if not h_out.is_integer() or not w_out.is_integer():\n",
    "        raise Exception('Invalid output dimension!')\n",
    "\n",
    "    h_out, w_out = int(h_out), int(w_out)\n",
    "\n",
    "    X_col = im2col_indices(X, h_filter, w_filter, padding=padding, stride=stride)\n",
    "    W_col = W.reshape(n_filters, -1)\n",
    "\n",
    "    #out = W_col @ X_col + b\n",
    "    out = W_col @ X_col\n",
    "    out = out.reshape(n_filters, h_out, w_out, n_x)\n",
    "    out = out.transpose(3, 0, 1, 2)\n",
    "\n",
    "    cache = (X, W, b, stride, padding, X_col)\n",
    "\n",
    "    return out, cache\n",
    "\n",
    "\n",
    "def conv_backward(dout, cache):\n",
    "    X, W, b, stride, padding, X_col = cache\n",
    "    n_filter, d_filter, h_filter, w_filter = W.shape\n",
    "\n",
    "    db = np.sum(dout, axis=(0, 2, 3))\n",
    "    db = db.reshape(n_filter, -1)\n",
    "\n",
    "    dout_reshaped = dout.transpose(1, 2, 3, 0).reshape(n_filter, -1)\n",
    "    dW = dout_reshaped @ X_col.T\n",
    "    dW = dW.reshape(W.shape)\n",
    "\n",
    "    W_reshape = W.reshape(n_filter, -1)\n",
    "    dX_col = W_reshape.T @ dout_reshaped\n",
    "    dX = col2im_indices(dX_col, X.shape, h_filter, w_filter, padding=padding, stride=stride)\n",
    "\n",
    "    return dX, dW, db"
   ]
  },
  {
   "cell_type": "code",
   "execution_count": 4,
   "metadata": {
    "collapsed": true
   },
   "outputs": [],
   "source": [
    "x1 = np.random.randn(1, 3, 3)\n",
    "x2 = np.random.randn(1, 3, 3)\n",
    "x = np.array([x1, x2])\n",
    "#x = np.reshape(x, newshape=(-1, -1, 2, 2))"
   ]
  },
  {
   "cell_type": "code",
   "execution_count": 5,
   "metadata": {},
   "outputs": [
    {
     "data": {
      "text/plain": [
       "array([[[[-0.34385368,  0.04359686, -0.62000084],\n",
       "         [ 0.69803203, -0.44712856,  1.2245077 ],\n",
       "         [ 0.40349164,  0.59357852, -1.09491185]]],\n",
       "\n",
       "\n",
       "       [[[ 0.16938243,  0.74055645, -0.9537006 ],\n",
       "         [-0.26621851,  0.03261455, -1.37311732],\n",
       "         [ 0.31515939,  0.84616065, -0.85951594]]]])"
      ]
     },
     "execution_count": 5,
     "metadata": {},
     "output_type": "execute_result"
    }
   ],
   "source": [
    "x"
   ]
  },
  {
   "cell_type": "code",
   "execution_count": 6,
   "metadata": {},
   "outputs": [
    {
     "data": {
      "text/plain": [
       "array([[-0.34385368,  0.16938243,  0.04359686,  0.74055645,  0.69803203,\n",
       "        -0.26621851, -0.44712856,  0.03261455],\n",
       "       [ 0.04359686,  0.74055645, -0.62000084, -0.9537006 , -0.44712856,\n",
       "         0.03261455,  1.2245077 , -1.37311732],\n",
       "       [ 0.69803203, -0.26621851, -0.44712856,  0.03261455,  0.40349164,\n",
       "         0.31515939,  0.59357852,  0.84616065],\n",
       "       [-0.44712856,  0.03261455,  1.2245077 , -1.37311732,  0.59357852,\n",
       "         0.84616065, -1.09491185, -0.85951594]])"
      ]
     },
     "execution_count": 6,
     "metadata": {},
     "output_type": "execute_result"
    }
   ],
   "source": [
    "im2col_indices(x, 2, 2, 0, 1)"
   ]
  },
  {
   "cell_type": "code",
   "execution_count": 7,
   "metadata": {
    "collapsed": true
   },
   "outputs": [],
   "source": [
    "x1 = np.random.randn(1, 3, 3)\n",
    "x2 = np.random.randn(1, 3, 3)\n",
    "x = np.array([x1])"
   ]
  },
  {
   "cell_type": "code",
   "execution_count": 8,
   "metadata": {},
   "outputs": [
    {
     "data": {
      "text/plain": [
       "array([[[[ 0.35054598, -1.31228341, -0.03869551],\n",
       "         [-1.61577235,  1.12141771,  0.40890054],\n",
       "         [-0.02461696, -0.77516162,  1.27375593]]]])"
      ]
     },
     "execution_count": 8,
     "metadata": {},
     "output_type": "execute_result"
    }
   ],
   "source": [
    "x"
   ]
  },
  {
   "cell_type": "code",
   "execution_count": 9,
   "metadata": {},
   "outputs": [
    {
     "data": {
      "text/plain": [
       "array([[ 0.35054598, -1.31228341, -1.61577235,  1.12141771],\n",
       "       [-1.31228341, -0.03869551,  1.12141771,  0.40890054],\n",
       "       [-1.61577235,  1.12141771, -0.02461696, -0.77516162],\n",
       "       [ 1.12141771,  0.40890054, -0.77516162,  1.27375593]])"
      ]
     },
     "execution_count": 9,
     "metadata": {},
     "output_type": "execute_result"
    }
   ],
   "source": [
    "im2col_indices(x, 2, 2, 0, 1)"
   ]
  },
  {
   "cell_type": "code",
   "execution_count": 10,
   "metadata": {
    "collapsed": true
   },
   "outputs": [],
   "source": [
    "w = np.random.randn(3, 1, 2, 2)"
   ]
  },
  {
   "cell_type": "code",
   "execution_count": 11,
   "metadata": {},
   "outputs": [
    {
     "data": {
      "text/plain": [
       "array([[[[-1.23005814,  0.5505375 ],\n",
       "         [ 0.79280687, -0.62353073]]],\n",
       "\n",
       "\n",
       "       [[[ 0.52057634, -1.14434139],\n",
       "         [ 0.80186103,  0.0465673 ]]],\n",
       "\n",
       "\n",
       "       [[[-0.18656977, -0.10174587],\n",
       "         [ 0.86888616,  0.75041164]]]])"
      ]
     },
     "execution_count": 11,
     "metadata": {},
     "output_type": "execute_result"
    }
   ],
   "source": [
    "w"
   ]
  },
  {
   "cell_type": "code",
   "execution_count": 12,
   "metadata": {},
   "outputs": [
    {
     "data": {
      "text/plain": [
       "array([[-1.23005814,  0.5505375 ,  0.79280687, -0.62353073],\n",
       "       [ 0.52057634, -1.14434139,  0.80186103,  0.0465673 ],\n",
       "       [-0.18656977, -0.10174587,  0.86888616,  0.75041164]])"
      ]
     },
     "execution_count": 12,
     "metadata": {},
     "output_type": "execute_result"
    }
   ],
   "source": [
    "w.reshape(3, -1)"
   ]
  },
  {
   "cell_type": "code",
   "execution_count": 13,
   "metadata": {
    "collapsed": true
   },
   "outputs": [],
   "source": [
    "# https://stackoverflow.com/questions/30109068/implement-matlabs-im2col-sliding-in-python\n",
    "# https://stackoverflow.com/questions/30109068/implement-matlabs-im2col-sliding-in-python/31404264#31404264"
   ]
  },
  {
   "cell_type": "code",
   "execution_count": 14,
   "metadata": {},
   "outputs": [],
   "source": [
    "def zero_pad(X, pad):\n",
    "    X_pad = np.pad(X, ((0, 0), (0,0), (pad, pad), (pad, pad)), 'constant', constant_values=(0, 0))\n",
    "    return X_pad\n",
    "\n",
    "def im2col_sliding(image, f, pad=0, stride=1):\n",
    "    M, C, h, w, = image.shape\n",
    "    if pad > 0:\n",
    "        image_pad = zero_pad(image, pad)\n",
    "        #print(image_pad)\n",
    "    else:\n",
    "        image_pad = image\n",
    "    \n",
    "    h_new = int((h - f + 2*pad) / stride + 1)\n",
    "    w_new = int((w - f + 2*pad) / stride + 1)\n",
    "    print('h_new: {}'.format(h_new))\n",
    "    print('w_new: {}'.format(w_new))\n",
    "    \n",
    "    output_vectors = np.zeros((M*h_new*w_new, f*f*C))\n",
    "    print('output_vectors: {}'.format(output_vectors.shape))\n",
    "    \n",
    "    itr = 0\n",
    "    for m in range(M):\n",
    "        for i in range(h_new):\n",
    "            for j in range(w_new):\n",
    "                start_i = stride * i\n",
    "                end_i = stride * i + f\n",
    "                start_j = stride * j\n",
    "                end_j = stride * j + f\n",
    "                output_vectors[itr, :] = image_pad[m, :, start_i:end_i, start_j:end_j].ravel()\n",
    "                itr += 1                    \n",
    "    return output_vectors\n",
    "\n",
    "def col2img_sliding(cols,  x_shape, f, pad=0, stride=1):\n",
    "    #N, C, H, W = x_shape\n",
    "    H, W = x_shape\n",
    "    H_padded, W_padded = H + 2 * pad, W + 2 * pad\n",
    "    #x_padded = np.zeros((N, C, H_padded, W_padded), dtype=cols.dtype)\n",
    "    x_padded = np.zeros((H_padded, W_padded), dtype=cols.dtype)\n",
    "    \n",
    "    idx = 0\n",
    "    for i in range(0, H_padded -f + 1, stride):\n",
    "        for j in range(0, W_padded - f + 1, stride):\n",
    "            #print('i: {}, j:{}'.format(i, j))\n",
    "            col = cols[idx, :]\n",
    "            col = col.reshape((f, f))\n",
    "            \n",
    "            x_padded[i:i+stride, j:j+stride] = col[0:stride, 0:stride]\n",
    "            \n",
    "            if stride < f:\n",
    "                if (j == W_padded - f) and (i == H_padded - f):\n",
    "                    x_padded[i:i+f, j:j+f] = col\n",
    "                elif j == W_padded - f:\n",
    "                    x_padded[i:i+stride, j+stride:] = col[0:stride, stride:]\n",
    "                elif i == H_padded - f:\n",
    "                    x_padded[i+stride:, j:j+stride] = col[stride:, 0:stride]\n",
    "            \n",
    "            #if j == W_padded - f:\n",
    "                #print(col[0:stride, stride:])\n",
    "                #x_padded[i:i+stride, j+stride:] = col[0:stride, stride:]\n",
    "            \n",
    "            #if i == H_padded - f:\n",
    "                #print(col[stride:, 0:stride])\n",
    "                #x_padded[i+stride:, j:j+stride] = col[stride:, 0:stride]\n",
    "                \n",
    "            #if (j == W_padded - f) and (i == H_padded - f):\n",
    "                #x_padded[i:i+f, j:j+f] = col\n",
    "            \n",
    "            #print(x_padded)\n",
    "            idx += 1\n",
    "    if pad > 0:\n",
    "        return x_padded[pad:-pad, pad:-pad]\n",
    "    else:\n",
    "        return x_padded\n",
    "\n",
    "def conv_forward_naive(X, W, b, stride=1, padding=1):\n",
    "    cache = W, b, stride, padding\n",
    "    n_filters, d_filter, h_filter, w_filter = W.shape\n",
    "    n_x, d_x, h_x, w_x = X.shape\n",
    "    h_out = int((h_x - h_filter + 2 * padding) / stride) + 1\n",
    "    w_out = int((w_x - w_filter + 2 * padding) / stride) + 1\n",
    "    \n",
    "    X_col = im2col_sliding(X, f=h_filter, pad=padding, stride=stride)\n",
    "    W_col = W.reshape(-1, d_filter*h_filter*w_filter).T\n",
    "    out = X_col @ W_col + b\n",
    "    out = out.T\n",
    "    out = out.reshape(n_x, n_filters, w_out, h_out)\n",
    "    return out"
   ]
  },
  {
   "cell_type": "code",
   "execution_count": 15,
   "metadata": {},
   "outputs": [
    {
     "name": "stdout",
     "output_type": "stream",
     "text": [
      "[[ 1  2  5  6]\n",
      " [ 2  3  6  7]\n",
      " [ 3  4  7  8]\n",
      " [ 5  6  9 10]\n",
      " [ 6  7 10 11]\n",
      " [ 7  8 11 12]]\n",
      "i: 0, j:0\n",
      "i: 0, j:1\n",
      "i: 0, j:2\n",
      "i: 1, j:0\n",
      "i: 1, j:1\n",
      "i: 1, j:2\n"
     ]
    },
    {
     "data": {
      "text/plain": [
       "array([[ 1,  2,  3,  4],\n",
       "       [ 5,  6,  7,  8],\n",
       "       [ 9, 10, 11, 12]])"
      ]
     },
     "execution_count": 15,
     "metadata": {},
     "output_type": "execute_result"
    }
   ],
   "source": [
    "zz = np.array([[1, 2, 5, 6], [2, 3, 6, 7], [3, 4, 7, 8], [5, 6, 9, 10], [6, 7, 10, 11], [7, 8, 11, 12]])\n",
    "print(zz)\n",
    "col2img_sliding(zz, (3, 4), 2)\n",
    "\n",
    "#zz = np.array([[1, 2, 5, 6], [3, 4, 7, 8]])\n",
    "#col2img_sliding(zz, (2, 4), 2, stride=2, pad=1)\n",
    "\n",
    "#zz = np.array([[0, 0, 0, 1], [0, 0, 2, 0], [0, 3, 0, 0], [4, 0, 0, 0]])\n",
    "#col2img_sliding(zz, (2, 2), 2, stride=2, pad=1)"
   ]
  },
  {
   "cell_type": "code",
   "execution_count": 16,
   "metadata": {},
   "outputs": [
    {
     "name": "stdout",
     "output_type": "stream",
     "text": [
      "[[[[-23.72999738 -28.56980149 -30.61855464  -3.4879379 ]\n",
      "   [-22.21615461 -24.07818212 -24.54472277   0.19350585]\n",
      "   [-25.20476926 -25.47780406 -25.94434471   1.78249856]\n",
      "   [ 11.88473098  20.13115381  21.71336631   8.95008998]]\n",
      "\n",
      "  [[-11.32034252 -11.92705796 -12.69045807   1.53300623]\n",
      "   [-13.99042664 -11.4785179   -9.27161269   4.38846466]\n",
      "   [-11.45317215  -4.85780227  -2.65089707   8.47192579]\n",
      "   [ 13.40399052  20.56057229  23.53087761   6.89341603]]]\n",
      "\n",
      "\n",
      " [[[-56.42623242 -65.44735815 -67.4961113   -7.66925952]\n",
      "   [-40.14784254 -32.47591377 -32.94245442   9.72746213]\n",
      "   [-43.1364572  -33.87553571 -34.34207636  11.31645484]\n",
      "   [ 26.64927808  48.61097882  50.19319132  22.66536789]]\n",
      "\n",
      "  [[-33.31947384 -25.66825994 -26.43166005   9.79093556]\n",
      "   [  1.23310031  28.24577583  30.45268104  28.88923144]\n",
      "   [  3.7703548   34.86649145  37.07339666  32.97269257]\n",
      "   [ 50.62664879  74.026068    76.99637332  23.13625347]]]]\n"
     ]
    },
    {
     "data": {
      "text/plain": [
       "(2, 2, 4, 4)"
      ]
     },
     "execution_count": 16,
     "metadata": {},
     "output_type": "execute_result"
    }
   ],
   "source": [
    "X = np.arange(1, 37).reshape(2, 2, 3, 3)\n",
    "W = np.random.randn(2, 2, 2, 2)\n",
    "b = np.random.randn(2,)\n",
    "#conv_forward_naive(X, W, b)\n",
    "\n",
    "out, _ = conv_forward(X, W, b, stride=1, padding=1)\n",
    "print(out)\n",
    "out.shape"
   ]
  },
  {
   "cell_type": "code",
   "execution_count": 17,
   "metadata": {},
   "outputs": [
    {
     "name": "stdout",
     "output_type": "stream",
     "text": [
      "h_new: 4\n",
      "w_new: 4\n",
      "output_vectors: (32, 8)\n"
     ]
    },
    {
     "data": {
      "text/plain": [
       "array([[[[-24.24709184, -29.08689595, -31.13564909,  -4.00503236],\n",
       "         [-22.73324906, -24.59527658, -25.06181723,  -0.32358861],\n",
       "         [-25.72186372, -25.99489852, -26.46143917,   1.2654041 ],\n",
       "         [ 11.36763652,  19.61405936,  21.19627186,   8.43299553]],\n",
       "\n",
       "        [[-56.94332687, -65.96445261, -68.01320575,  -8.18635398],\n",
       "         [-40.664937  , -32.99300823, -33.45954888,   9.21036767],\n",
       "         [-43.65355165, -34.39263017, -34.85917082,  10.79936039],\n",
       "         [ 26.13218363,  48.09388436,  49.67609686,  22.14827343]]],\n",
       "\n",
       "\n",
       "       [[[-12.31736935, -12.92408478, -13.68748489,   0.5359794 ],\n",
       "         [-14.98745347, -12.47554472, -10.26863952,   3.39143784],\n",
       "         [-12.45019897,  -5.8548291 ,  -3.6479239 ,   7.47489897],\n",
       "         [ 12.4069637 ,  19.56354547,  22.53385078,   5.8963892 ]],\n",
       "\n",
       "        [[-34.31650066, -26.66528677, -27.42868688,   8.79390874],\n",
       "         [  0.23607348,  27.248749  ,  29.45565421,  27.89220461],\n",
       "         [  2.77332798,  33.86946462,  36.07636983,  31.97566574],\n",
       "         [ 49.62962196,  73.02904118,  75.99934649,  22.13922664]]]])"
      ]
     },
     "execution_count": 17,
     "metadata": {},
     "output_type": "execute_result"
    }
   ],
   "source": [
    "conv_forward_naive(X, W, b)"
   ]
  },
  {
   "cell_type": "code",
   "execution_count": 18,
   "metadata": {
    "collapsed": true
   },
   "outputs": [],
   "source": [
    "n_filters, d_filter, h_filter, w_filter = W.shape"
   ]
  },
  {
   "cell_type": "code",
   "execution_count": 19,
   "metadata": {},
   "outputs": [
    {
     "data": {
      "text/plain": [
       "(2, 8)"
      ]
     },
     "execution_count": 19,
     "metadata": {},
     "output_type": "execute_result"
    }
   ],
   "source": [
    "W.reshape(-1, d_filter*h_filter*w_filter).shape"
   ]
  },
  {
   "cell_type": "code",
   "execution_count": 20,
   "metadata": {
    "collapsed": true
   },
   "outputs": [],
   "source": [
    "b = np.linspace(-0.1, 0.2, num=3)"
   ]
  },
  {
   "cell_type": "code",
   "execution_count": 21,
   "metadata": {},
   "outputs": [
    {
     "data": {
      "text/plain": [
       "array([-0.1 ,  0.05,  0.2 ])"
      ]
     },
     "execution_count": 21,
     "metadata": {},
     "output_type": "execute_result"
    }
   ],
   "source": [
    "b"
   ]
  },
  {
   "cell_type": "code",
   "execution_count": 22,
   "metadata": {},
   "outputs": [
    {
     "data": {
      "text/plain": [
       "array([[ 1,  2,  3],\n",
       "       [ 4,  5,  6],\n",
       "       [ 7,  8,  9],\n",
       "       [10, 11, 12]])"
      ]
     },
     "execution_count": 22,
     "metadata": {},
     "output_type": "execute_result"
    }
   ],
   "source": [
    "xx = np.array([[1, 2, 3], [4, 5, 6], [7, 8, 9], [10,11,12]])\n",
    "xx"
   ]
  },
  {
   "cell_type": "code",
   "execution_count": 23,
   "metadata": {},
   "outputs": [
    {
     "data": {
      "text/plain": [
       "array([[ 1,  4,  7, 10],\n",
       "       [ 2,  5,  8, 11],\n",
       "       [ 3,  6,  9, 12]])"
      ]
     },
     "execution_count": 23,
     "metadata": {},
     "output_type": "execute_result"
    }
   ],
   "source": [
    "xx.transpose(1, 0)"
   ]
  },
  {
   "cell_type": "code",
   "execution_count": 24,
   "metadata": {},
   "outputs": [
    {
     "name": "stdout",
     "output_type": "stream",
     "text": [
      "0\n",
      "1\n",
      "2\n",
      "3\n",
      "4\n",
      "5\n",
      "6\n",
      "7\n",
      "8\n",
      "9\n",
      "10\n",
      "11\n",
      "12\n",
      "13\n",
      "14\n",
      "15\n",
      "16\n",
      "17\n",
      "18\n",
      "19\n"
     ]
    }
   ],
   "source": [
    "r = np.arange(20)\n",
    "for i in range(0, len(r), 1):\n",
    "    print(i)"
   ]
  },
  {
   "cell_type": "code",
   "execution_count": 25,
   "metadata": {},
   "outputs": [
    {
     "data": {
      "text/plain": [
       "array([[ 5,  6],\n",
       "       [ 9, 10]])"
      ]
     },
     "execution_count": 25,
     "metadata": {},
     "output_type": "execute_result"
    }
   ],
   "source": [
    "col = np.array([[ 5,  6], [ 9, 10]])\n",
    "col"
   ]
  },
  {
   "cell_type": "code",
   "execution_count": 26,
   "metadata": {},
   "outputs": [
    {
     "data": {
      "text/plain": [
       "array([[9]])"
      ]
     },
     "execution_count": 26,
     "metadata": {},
     "output_type": "execute_result"
    }
   ],
   "source": [
    "col[1:, 0:1]"
   ]
  },
  {
   "cell_type": "code",
   "execution_count": 27,
   "metadata": {
    "collapsed": true
   },
   "outputs": [],
   "source": [
    "dd = np.array([[9]])"
   ]
  },
  {
   "cell_type": "code",
   "execution_count": 28,
   "metadata": {},
   "outputs": [
    {
     "data": {
      "text/plain": [
       "array([[9]])"
      ]
     },
     "execution_count": 28,
     "metadata": {},
     "output_type": "execute_result"
    }
   ],
   "source": [
    "dd"
   ]
  },
  {
   "cell_type": "code",
   "execution_count": 29,
   "metadata": {},
   "outputs": [
    {
     "data": {
      "text/plain": [
       "(1, 1)"
      ]
     },
     "execution_count": 29,
     "metadata": {},
     "output_type": "execute_result"
    }
   ],
   "source": [
    "dd.shape"
   ]
  },
  {
   "cell_type": "code",
   "execution_count": null,
   "metadata": {
    "collapsed": true
   },
   "outputs": [],
   "source": []
  }
 ],
 "metadata": {
  "kernelspec": {
   "display_name": "Python 3",
   "language": "python",
   "name": "python3"
  },
  "language_info": {
   "codemirror_mode": {
    "name": "ipython",
    "version": 3
   },
   "file_extension": ".py",
   "mimetype": "text/x-python",
   "name": "python",
   "nbconvert_exporter": "python",
   "pygments_lexer": "ipython3",
   "version": "3.6.2"
  }
 },
 "nbformat": 4,
 "nbformat_minor": 2
}
