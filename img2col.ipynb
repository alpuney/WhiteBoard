{
 "cells": [
  {
   "cell_type": "code",
   "execution_count": 1,
   "metadata": {
    "collapsed": true
   },
   "outputs": [],
   "source": [
    "import numpy as np"
   ]
  },
  {
   "cell_type": "code",
   "execution_count": 2,
   "metadata": {
    "collapsed": true
   },
   "outputs": [],
   "source": [
    "np.random.seed(1)\n",
    "A_prev = np.random.randn(2, 4, 4, 3)\n",
    "hparameters = {\"stride\" : 2, \"f\": 3}"
   ]
  },
  {
   "cell_type": "code",
   "execution_count": 3,
   "metadata": {
    "collapsed": true
   },
   "outputs": [],
   "source": [
    "def get_im2col_indices(x_shape, field_height, field_width, padding=1, stride=1):\n",
    "    # First figure out what the size of the output should be\n",
    "    N, C, H, W = x_shape\n",
    "    assert (H + 2 * padding - field_height) % stride == 0\n",
    "    assert (W + 2 * padding - field_height) % stride == 0\n",
    "    out_height = int((H + 2 * padding - field_height) / stride + 1)\n",
    "    out_width = int((W + 2 * padding - field_width) / stride + 1)\n",
    "\n",
    "    i0 = np.repeat(np.arange(field_height), field_width)\n",
    "    i0 = np.tile(i0, C)\n",
    "    i1 = stride * np.repeat(np.arange(out_height), out_width)\n",
    "    j0 = np.tile(np.arange(field_width), field_height * C)\n",
    "    j1 = stride * np.tile(np.arange(out_width), out_height)\n",
    "    i = i0.reshape(-1, 1) + i1.reshape(1, -1)\n",
    "    j = j0.reshape(-1, 1) + j1.reshape(1, -1)\n",
    "\n",
    "    k = np.repeat(np.arange(C), field_height * field_width).reshape(-1, 1)\n",
    "\n",
    "    return (k.astype(int), i.astype(int), j.astype(int))\n",
    "\n",
    "\n",
    "def im2col_indices(x, field_height, field_width, padding=1, stride=1):\n",
    "    \"\"\" An implementation of im2col based on some fancy indexing \"\"\"\n",
    "    # Zero-pad the input\n",
    "    p = padding\n",
    "    x_padded = np.pad(x, ((0, 0), (0, 0), (p, p), (p, p)), mode='constant')\n",
    "\n",
    "    k, i, j = get_im2col_indices(x.shape, field_height, field_width, padding, stride)\n",
    "\n",
    "    cols = x_padded[:, k, i, j]\n",
    "    C = x.shape[1]\n",
    "    cols = cols.transpose(1, 2, 0).reshape(field_height * field_width * C, -1)\n",
    "    return cols\n",
    "\n",
    "\n",
    "def col2im_indices(cols, x_shape, field_height=3, field_width=3, padding=1,\n",
    "                   stride=1):\n",
    "    \"\"\" An implementation of col2im based on fancy indexing and np.add.at \"\"\"\n",
    "    N, C, H, W = x_shape\n",
    "    H_padded, W_padded = H + 2 * padding, W + 2 * padding\n",
    "    x_padded = np.zeros((N, C, H_padded, W_padded), dtype=cols.dtype)\n",
    "    k, i, j = get_im2col_indices(x_shape, field_height, field_width, padding, stride)\n",
    "    cols_reshaped = cols.reshape(C * field_height * field_width, -1, N)\n",
    "    cols_reshaped = cols_reshaped.transpose(2, 0, 1)\n",
    "    np.add.at(x_padded, (slice(None), k, i, j), cols_reshaped)\n",
    "    if padding == 0:\n",
    "        return x_padded\n",
    "    return x_padded[:, :, padding:-padding, padding:-padding]\n",
    "\n",
    "def conv_forward(X, W, b, stride=1, padding=1):\n",
    "    cache = W, b, stride, padding\n",
    "    n_filters, d_filter, h_filter, w_filter = W.shape\n",
    "    n_x, d_x, h_x, w_x = X.shape\n",
    "    h_out = (h_x - h_filter + 2 * padding) / stride + 1\n",
    "    w_out = (w_x - w_filter + 2 * padding) / stride + 1\n",
    "\n",
    "    if not h_out.is_integer() or not w_out.is_integer():\n",
    "        raise Exception('Invalid output dimension!')\n",
    "\n",
    "    h_out, w_out = int(h_out), int(w_out)\n",
    "\n",
    "    X_col = im2col_indices(X, h_filter, w_filter, padding=padding, stride=stride)\n",
    "    W_col = W.reshape(n_filters, -1)\n",
    "\n",
    "    #out = W_col @ X_col + b\n",
    "    out = W_col @ X_col\n",
    "    out = out.reshape(n_filters, h_out, w_out, n_x)\n",
    "    out = out.transpose(3, 0, 1, 2)\n",
    "\n",
    "    cache = (X, W, b, stride, padding, X_col)\n",
    "\n",
    "    return out, cache\n",
    "\n",
    "\n",
    "def conv_backward(dout, cache):\n",
    "    X, W, b, stride, padding, X_col = cache\n",
    "    n_filter, d_filter, h_filter, w_filter = W.shape\n",
    "\n",
    "    db = np.sum(dout, axis=(0, 2, 3))\n",
    "    db = db.reshape(n_filter, -1)\n",
    "\n",
    "    dout_reshaped = dout.transpose(1, 2, 3, 0).reshape(n_filter, -1)\n",
    "    dW = dout_reshaped @ X_col.T\n",
    "    dW = dW.reshape(W.shape)\n",
    "\n",
    "    W_reshape = W.reshape(n_filter, -1)\n",
    "    dX_col = W_reshape.T @ dout_reshaped\n",
    "    dX = col2im_indices(dX_col, X.shape, h_filter, w_filter, padding=padding, stride=stride)\n",
    "\n",
    "    return dX, dW, db"
   ]
  },
  {
   "cell_type": "code",
   "execution_count": 78,
   "metadata": {
    "collapsed": true
   },
   "outputs": [],
   "source": [
    "from builtins import range\n",
    "import numpy as np\n",
    "\n",
    "\n",
    "def get_im2col_indices(x_shape, field_height, field_width, padding=1, stride=1):\n",
    "    # First figure out what the size of the output should be\n",
    "    N, C, H, W = x_shape\n",
    "    assert (H + 2 * padding - field_height) % stride == 0\n",
    "    assert (W + 2 * padding - field_height) % stride == 0\n",
    "    out_height = (H + 2 * padding - field_height) // stride + 1\n",
    "    out_width = (W + 2 * padding - field_width) // stride + 1\n",
    "\n",
    "    i0 = np.repeat(np.arange(field_height), field_width)\n",
    "    i0 = np.tile(i0, C)\n",
    "    i1 = stride * np.repeat(np.arange(out_height), out_width)\n",
    "    j0 = np.tile(np.arange(field_width), field_height * C)\n",
    "    j1 = stride * np.tile(np.arange(out_width), out_height)\n",
    "    i = i0.reshape(-1, 1) + i1.reshape(1, -1)\n",
    "    j = j0.reshape(-1, 1) + j1.reshape(1, -1)\n",
    "\n",
    "    k = np.repeat(np.arange(C), field_height * field_width).reshape(-1, 1)\n",
    "\n",
    "    return (k, i, j)\n",
    "\n",
    "\n",
    "def im2col_indices(x, field_height, field_width, padding=1, stride=1):\n",
    "    \"\"\" An implementation of im2col based on some fancy indexing \"\"\"\n",
    "    # Zero-pad the input\n",
    "    p = padding\n",
    "    x_padded = np.pad(x, ((0, 0), (0, 0), (p, p), (p, p)), mode='constant')\n",
    "\n",
    "    k, i, j = get_im2col_indices(x.shape, field_height, field_width, padding,\n",
    "                                 stride)\n",
    "\n",
    "    cols = x_padded[:, k, i, j]\n",
    "    C = x.shape[1]\n",
    "    cols = cols.transpose(1, 2, 0).reshape(field_height * field_width * C, -1)\n",
    "    return cols\n",
    "\n",
    "\n",
    "def col2im_indices(cols, x_shape, field_height=3, field_width=3, padding=1,\n",
    "                   stride=1):\n",
    "    \"\"\" An implementation of col2im based on fancy indexing and np.add.at \"\"\"\n",
    "    N, C, H, W = x_shape\n",
    "    H_padded, W_padded = H + 2 * padding, W + 2 * padding\n",
    "    x_padded = np.zeros((N, C, H_padded, W_padded), dtype=cols.dtype)\n",
    "    k, i, j = get_im2col_indices(x_shape, field_height, field_width, padding,\n",
    "                                 stride)\n",
    "    cols_reshaped = cols.reshape(C * field_height * field_width, -1, N)\n",
    "    cols_reshaped = cols_reshaped.transpose(2, 0, 1)\n",
    "    np.add.at(x_padded, (slice(None), k, i, j), cols_reshaped)\n",
    "    if padding == 0:\n",
    "        return x_padded\n",
    "    return x_padded[:, :, padding:-padding, padding:-padding]"
   ]
  },
  {
   "cell_type": "code",
   "execution_count": 79,
   "metadata": {},
   "outputs": [
    {
     "name": "stdout",
     "output_type": "stream",
     "text": [
      "[[[[ 1  2  3]\n",
      "   [ 4  5  6]\n",
      "   [ 7  8  9]]]\n",
      "\n",
      "\n",
      " [[[10 11 12]\n",
      "   [13 14 15]\n",
      "   [16 17 18]]]]\n",
      "[[ 1 10  2 11  4 13  5 14]\n",
      " [ 2 11  3 12  5 14  6 15]\n",
      " [ 4 13  5 14  7 16  8 17]\n",
      " [ 5 14  6 15  8 17  9 18]]\n"
     ]
    },
    {
     "data": {
      "text/plain": [
       "array([[[[ 1,  4,  3],\n",
       "         [ 8, 20, 12],\n",
       "         [ 7, 16,  9]]],\n",
       "\n",
       "\n",
       "       [[[10, 22, 12],\n",
       "         [26, 56, 30],\n",
       "         [16, 34, 18]]]])"
      ]
     },
     "execution_count": 79,
     "metadata": {},
     "output_type": "execute_result"
    }
   ],
   "source": [
    "xx = np.arange(1, 19).reshape((2, 1, 3, 3))\n",
    "print(xx)\n",
    "i2cc = im2col_indices(xx, 2, 2, 0, 1)\n",
    "print(i2cc)\n",
    "col2im_indices(i2cc, (2, 1, 3, 3), field_height=2, field_width=2, padding=0, stride=1)"
   ]
  },
  {
   "cell_type": "code",
   "execution_count": 5,
   "metadata": {},
   "outputs": [
    {
     "data": {
      "text/plain": [
       "array([[[[-0.34385368,  0.04359686, -0.62000084],\n",
       "         [ 0.69803203, -0.44712856,  1.2245077 ],\n",
       "         [ 0.40349164,  0.59357852, -1.09491185]]],\n",
       "\n",
       "\n",
       "       [[[ 0.16938243,  0.74055645, -0.9537006 ],\n",
       "         [-0.26621851,  0.03261455, -1.37311732],\n",
       "         [ 0.31515939,  0.84616065, -0.85951594]]]])"
      ]
     },
     "execution_count": 5,
     "metadata": {},
     "output_type": "execute_result"
    }
   ],
   "source": [
    "x"
   ]
  },
  {
   "cell_type": "code",
   "execution_count": 6,
   "metadata": {},
   "outputs": [
    {
     "data": {
      "text/plain": [
       "array([[-0.34385368,  0.16938243,  0.04359686,  0.74055645,  0.69803203,\n",
       "        -0.26621851, -0.44712856,  0.03261455],\n",
       "       [ 0.04359686,  0.74055645, -0.62000084, -0.9537006 , -0.44712856,\n",
       "         0.03261455,  1.2245077 , -1.37311732],\n",
       "       [ 0.69803203, -0.26621851, -0.44712856,  0.03261455,  0.40349164,\n",
       "         0.31515939,  0.59357852,  0.84616065],\n",
       "       [-0.44712856,  0.03261455,  1.2245077 , -1.37311732,  0.59357852,\n",
       "         0.84616065, -1.09491185, -0.85951594]])"
      ]
     },
     "execution_count": 6,
     "metadata": {},
     "output_type": "execute_result"
    }
   ],
   "source": [
    "im2col_indices(x, 2, 2, 0, 1)"
   ]
  },
  {
   "cell_type": "code",
   "execution_count": 7,
   "metadata": {
    "collapsed": true
   },
   "outputs": [],
   "source": [
    "x1 = np.random.randn(1, 3, 3)\n",
    "x2 = np.random.randn(1, 3, 3)\n",
    "x = np.array([x1])"
   ]
  },
  {
   "cell_type": "code",
   "execution_count": 8,
   "metadata": {},
   "outputs": [
    {
     "data": {
      "text/plain": [
       "array([[[[ 0.35054598, -1.31228341, -0.03869551],\n",
       "         [-1.61577235,  1.12141771,  0.40890054],\n",
       "         [-0.02461696, -0.77516162,  1.27375593]]]])"
      ]
     },
     "execution_count": 8,
     "metadata": {},
     "output_type": "execute_result"
    }
   ],
   "source": [
    "x"
   ]
  },
  {
   "cell_type": "code",
   "execution_count": 9,
   "metadata": {},
   "outputs": [
    {
     "data": {
      "text/plain": [
       "array([[ 0.35054598, -1.31228341, -1.61577235,  1.12141771],\n",
       "       [-1.31228341, -0.03869551,  1.12141771,  0.40890054],\n",
       "       [-1.61577235,  1.12141771, -0.02461696, -0.77516162],\n",
       "       [ 1.12141771,  0.40890054, -0.77516162,  1.27375593]])"
      ]
     },
     "execution_count": 9,
     "metadata": {},
     "output_type": "execute_result"
    }
   ],
   "source": [
    "im2col_indices(x, 2, 2, 0, 1)"
   ]
  },
  {
   "cell_type": "code",
   "execution_count": 10,
   "metadata": {
    "collapsed": true
   },
   "outputs": [],
   "source": [
    "w = np.random.randn(3, 1, 2, 2)"
   ]
  },
  {
   "cell_type": "code",
   "execution_count": 11,
   "metadata": {},
   "outputs": [
    {
     "data": {
      "text/plain": [
       "array([[[[-1.23005814,  0.5505375 ],\n",
       "         [ 0.79280687, -0.62353073]]],\n",
       "\n",
       "\n",
       "       [[[ 0.52057634, -1.14434139],\n",
       "         [ 0.80186103,  0.0465673 ]]],\n",
       "\n",
       "\n",
       "       [[[-0.18656977, -0.10174587],\n",
       "         [ 0.86888616,  0.75041164]]]])"
      ]
     },
     "execution_count": 11,
     "metadata": {},
     "output_type": "execute_result"
    }
   ],
   "source": [
    "w"
   ]
  },
  {
   "cell_type": "code",
   "execution_count": 12,
   "metadata": {},
   "outputs": [
    {
     "data": {
      "text/plain": [
       "array([[-1.23005814,  0.5505375 ,  0.79280687, -0.62353073],\n",
       "       [ 0.52057634, -1.14434139,  0.80186103,  0.0465673 ],\n",
       "       [-0.18656977, -0.10174587,  0.86888616,  0.75041164]])"
      ]
     },
     "execution_count": 12,
     "metadata": {},
     "output_type": "execute_result"
    }
   ],
   "source": [
    "w.reshape(3, -1)"
   ]
  },
  {
   "cell_type": "code",
   "execution_count": 13,
   "metadata": {
    "collapsed": true
   },
   "outputs": [],
   "source": [
    "# https://stackoverflow.com/questions/30109068/implement-matlabs-im2col-sliding-in-python\n",
    "# https://stackoverflow.com/questions/30109068/implement-matlabs-im2col-sliding-in-python/31404264#31404264"
   ]
  },
  {
   "cell_type": "code",
   "execution_count": 14,
   "metadata": {
    "collapsed": true
   },
   "outputs": [],
   "source": [
    "def zero_pad(X, pad):\n",
    "    X_pad = np.pad(X, ((0, 0), (0,0), (pad, pad), (pad, pad)), 'constant', constant_values=(0, 0))\n",
    "    return X_pad\n",
    "\n",
    "def im2col_sliding(image, f, pad=0, stride=1):\n",
    "    M, C, h, w, = image.shape\n",
    "    if pad > 0:\n",
    "        image_pad = zero_pad(image, pad)\n",
    "        #print(image_pad)\n",
    "    else:\n",
    "        image_pad = image\n",
    "    \n",
    "    h_new = int((h - f + 2*pad) / stride + 1)\n",
    "    w_new = int((w - f + 2*pad) / stride + 1)\n",
    "    print('h_new: {}'.format(h_new))\n",
    "    print('w_new: {}'.format(w_new))\n",
    "    \n",
    "    output_vectors = np.zeros((M*h_new*w_new, f*f*C))\n",
    "    print('output_vectors: {}'.format(output_vectors.shape))\n",
    "    \n",
    "    itr = 0\n",
    "    for m in range(M):\n",
    "        for i in range(h_new):\n",
    "            for j in range(w_new):\n",
    "                start_i = stride * i\n",
    "                end_i = stride * i + f\n",
    "                start_j = stride * j\n",
    "                end_j = stride * j + f\n",
    "                output_vectors[itr, :] = image_pad[m, :, start_i:end_i, start_j:end_j].ravel()\n",
    "                itr += 1                    \n",
    "    return output_vectors\n",
    "\n",
    "def col2img_sliding(cols,  x_shape, f, pad=0, stride=1):\n",
    "    N, C, H, W = x_shape\n",
    "    #C, H, W = x_shape\n",
    "    H_padded, W_padded = H + 2 * pad, W + 2 * pad\n",
    "    x_padded = np.zeros((N, C, H_padded, W_padded), dtype=cols.dtype)\n",
    "    #x_padded = np.zeros((C, H_padded, W_padded), dtype=cols.dtype)\n",
    "    \n",
    "    idx = 0\n",
    "    for m in range(N):\n",
    "        for i in range(0, H_padded -f + 1, stride):\n",
    "            for j in range(0, W_padded - f + 1, stride):\n",
    "                col = cols[idx, :]\n",
    "                col = col.reshape((C, f, f))\n",
    "            \n",
    "                x_padded[m, :, i:i+stride, j:j+stride] = col[:, 0:stride, 0:stride]\n",
    "            \n",
    "                if stride < f:\n",
    "                    if (j == W_padded - f) and (i == H_padded - f):\n",
    "                        x_padded[m, :, i:i+f, j:j+f] = col\n",
    "                    elif j == W_padded - f:\n",
    "                        x_padded[m, :, i:i+stride, j+stride:] = col[:, 0:stride, stride:]\n",
    "                    elif i == H_padded - f:\n",
    "                        x_padded[m, :, i+stride:, j:j+stride] = col[:, stride:, 0:stride]\n",
    "                idx += 1\n",
    "    if pad > 0:\n",
    "        return x_padded[:, :, pad:-pad, pad:-pad]\n",
    "    else:\n",
    "        return x_padded\n",
    "\n",
    "def conv_forward_naive(X, W, b, stride=1, padding=1):\n",
    "    cache = W, b, stride, padding\n",
    "    n_filters, d_filter, h_filter, w_filter = W.shape\n",
    "    n_x, d_x, h_x, w_x = X.shape\n",
    "    h_out = int((h_x - h_filter + 2 * padding) / stride) + 1\n",
    "    w_out = int((w_x - w_filter + 2 * padding) / stride) + 1\n",
    "    \n",
    "    X_col = im2col_sliding(X, f=h_filter, pad=padding, stride=stride)\n",
    "    W_col = W.reshape(-1, d_filter*h_filter*w_filter).T\n",
    "    out = X_col @ W_col + b\n",
    "    out = out.T\n",
    "    out = out.reshape(n_x, n_filters, w_out, h_out)\n",
    "    \n",
    "    cache = (X, W, b, stride, padding, X_col)\n",
    "    \n",
    "    return out, cache\n",
    "\n",
    "def conv_backword_naive(dout, cache):\n",
    "    X, W, b, stride, padding, X_col = cache\n",
    "    n_filter, d_filter, h_filter, w_filter = W.shape\n",
    "\n",
    "    db = np.sum(dout, axis=(0, 2, 3))\n",
    "    db = db.reshape(n_filter, -1)\n",
    "\n",
    "    dout_reshaped = dout.transpose(1, 2, 3, 0).reshape(n_filter, -1)\n",
    "    dW = dout_reshaped @ X_col.T\n",
    "    dW = dW.reshape(W.shape)\n",
    "\n",
    "    W_reshape = W.reshape(n_filter, -1)\n",
    "    dX_col = W_reshape.T @ dout_reshaped\n",
    "    dX = col2img_sliding(dX_col, X.shape, h_filter, pad=padding, stride=stride)\n",
    "\n",
    "    return dX, dW, db\n",
    "    "
   ]
  },
  {
   "cell_type": "code",
   "execution_count": 15,
   "metadata": {},
   "outputs": [
    {
     "name": "stdout",
     "output_type": "stream",
     "text": [
      "[[ 1  2  5  6]\n",
      " [ 2  3  6  7]\n",
      " [ 3  4  7  8]\n",
      " [ 5  6  9 10]\n",
      " [ 6  7 10 11]\n",
      " [ 7  8 11 12]]\n"
     ]
    }
   ],
   "source": [
    "zz = np.array([[1, 2, 5, 6], [2, 3, 6, 7], [3, 4, 7, 8], [5, 6, 9, 10], [6, 7, 10, 11], [7, 8, 11, 12]])\n",
    "print(zz)\n",
    "#col2img_sliding(zz, (3, 4), 2)\n",
    "\n",
    "#zz = np.array([[1, 2, 5, 6], [3, 4, 7, 8]])\n",
    "#col2img_sliding(zz, (2, 4), 2, stride=2, pad=1)\n",
    "\n",
    "#zz = np.array([[0, 0, 0, 1], [0, 0, 2, 0], [0, 3, 0, 0], [4, 0, 0, 0]])\n",
    "#col2img_sliding(zz, (2, 2), 2, stride=2, pad=1)"
   ]
  },
  {
   "cell_type": "code",
   "execution_count": 16,
   "metadata": {},
   "outputs": [
    {
     "name": "stdout",
     "output_type": "stream",
     "text": [
      "[[[[-23.72999738 -28.56980149 -30.61855464  -3.4879379 ]\n",
      "   [-22.21615461 -24.07818212 -24.54472277   0.19350585]\n",
      "   [-25.20476926 -25.47780406 -25.94434471   1.78249856]\n",
      "   [ 11.88473098  20.13115381  21.71336631   8.95008998]]\n",
      "\n",
      "  [[-11.32034252 -11.92705796 -12.69045807   1.53300623]\n",
      "   [-13.99042664 -11.4785179   -9.27161269   4.38846466]\n",
      "   [-11.45317215  -4.85780227  -2.65089707   8.47192579]\n",
      "   [ 13.40399052  20.56057229  23.53087761   6.89341603]]]\n",
      "\n",
      "\n",
      " [[[-56.42623242 -65.44735815 -67.4961113   -7.66925952]\n",
      "   [-40.14784254 -32.47591377 -32.94245442   9.72746213]\n",
      "   [-43.1364572  -33.87553571 -34.34207636  11.31645484]\n",
      "   [ 26.64927808  48.61097882  50.19319132  22.66536789]]\n",
      "\n",
      "  [[-33.31947384 -25.66825994 -26.43166005   9.79093556]\n",
      "   [  1.23310031  28.24577583  30.45268104  28.88923144]\n",
      "   [  3.7703548   34.86649145  37.07339666  32.97269257]\n",
      "   [ 50.62664879  74.026068    76.99637332  23.13625347]]]]\n"
     ]
    },
    {
     "data": {
      "text/plain": [
       "(2, 2, 4, 4)"
      ]
     },
     "execution_count": 16,
     "metadata": {},
     "output_type": "execute_result"
    }
   ],
   "source": [
    "X = np.arange(1, 37).reshape(2, 2, 3, 3)\n",
    "W = np.random.randn(2, 2, 2, 2)\n",
    "b = np.random.randn(2,)\n",
    "#conv_forward_naive(X, W, b)\n",
    "\n",
    "out, _ = conv_forward(X, W, b, stride=1, padding=1)\n",
    "print(out)\n",
    "out.shape"
   ]
  },
  {
   "cell_type": "code",
   "execution_count": 17,
   "metadata": {},
   "outputs": [
    {
     "name": "stdout",
     "output_type": "stream",
     "text": [
      "h_new: 4\n",
      "w_new: 4\n",
      "output_vectors: (32, 8)\n"
     ]
    },
    {
     "data": {
      "text/plain": [
       "(array([[[[-24.24709184, -29.08689595, -31.13564909,  -4.00503236],\n",
       "          [-22.73324906, -24.59527658, -25.06181723,  -0.32358861],\n",
       "          [-25.72186372, -25.99489852, -26.46143917,   1.2654041 ],\n",
       "          [ 11.36763652,  19.61405936,  21.19627186,   8.43299553]],\n",
       " \n",
       "         [[-56.94332687, -65.96445261, -68.01320575,  -8.18635398],\n",
       "          [-40.664937  , -32.99300823, -33.45954888,   9.21036767],\n",
       "          [-43.65355165, -34.39263017, -34.85917082,  10.79936039],\n",
       "          [ 26.13218363,  48.09388436,  49.67609686,  22.14827343]]],\n",
       " \n",
       " \n",
       "        [[[-12.31736935, -12.92408478, -13.68748489,   0.5359794 ],\n",
       "          [-14.98745347, -12.47554472, -10.26863952,   3.39143784],\n",
       "          [-12.45019897,  -5.8548291 ,  -3.6479239 ,   7.47489897],\n",
       "          [ 12.4069637 ,  19.56354547,  22.53385078,   5.8963892 ]],\n",
       " \n",
       "         [[-34.31650066, -26.66528677, -27.42868688,   8.79390874],\n",
       "          [  0.23607348,  27.248749  ,  29.45565421,  27.89220461],\n",
       "          [  2.77332798,  33.86946462,  36.07636983,  31.97566574],\n",
       "          [ 49.62962196,  73.02904118,  75.99934649,  22.13922664]]]]),\n",
       " (array([[[[ 1,  2,  3],\n",
       "           [ 4,  5,  6],\n",
       "           [ 7,  8,  9]],\n",
       "  \n",
       "          [[10, 11, 12],\n",
       "           [13, 14, 15],\n",
       "           [16, 17, 18]]],\n",
       "  \n",
       "  \n",
       "         [[[19, 20, 21],\n",
       "           [22, 23, 24],\n",
       "           [25, 26, 27]],\n",
       "  \n",
       "          [[28, 29, 30],\n",
       "           [31, 32, 33],\n",
       "           [34, 35, 36]]]]), array([[[[ 0.52946532,  0.13770121],\n",
       "           [ 0.07782113,  0.61838026]],\n",
       "  \n",
       "          [[ 0.23249456,  0.68255141],\n",
       "           [-0.31011677, -2.43483776]]],\n",
       "  \n",
       "  \n",
       "         [[[ 1.0388246 ,  2.18697965],\n",
       "           [ 0.44136444, -0.10015523]],\n",
       "  \n",
       "          [[-0.13644474, -0.11905419],\n",
       "           [ 0.01740941, -1.12201873]]]]), array([-0.51709446, -0.99702683]), 1, 1, array([[  0.,   0.,   0.,   1.,   0.,   0.,   0.,  10.],\n",
       "         [  0.,   0.,   1.,   2.,   0.,   0.,  10.,  11.],\n",
       "         [  0.,   0.,   2.,   3.,   0.,   0.,  11.,  12.],\n",
       "         [  0.,   0.,   3.,   0.,   0.,   0.,  12.,   0.],\n",
       "         [  0.,   1.,   0.,   4.,   0.,  10.,   0.,  13.],\n",
       "         [  1.,   2.,   4.,   5.,  10.,  11.,  13.,  14.],\n",
       "         [  2.,   3.,   5.,   6.,  11.,  12.,  14.,  15.],\n",
       "         [  3.,   0.,   6.,   0.,  12.,   0.,  15.,   0.],\n",
       "         [  0.,   4.,   0.,   7.,   0.,  13.,   0.,  16.],\n",
       "         [  4.,   5.,   7.,   8.,  13.,  14.,  16.,  17.],\n",
       "         [  5.,   6.,   8.,   9.,  14.,  15.,  17.,  18.],\n",
       "         [  6.,   0.,   9.,   0.,  15.,   0.,  18.,   0.],\n",
       "         [  0.,   7.,   0.,   0.,   0.,  16.,   0.,   0.],\n",
       "         [  7.,   8.,   0.,   0.,  16.,  17.,   0.,   0.],\n",
       "         [  8.,   9.,   0.,   0.,  17.,  18.,   0.,   0.],\n",
       "         [  9.,   0.,   0.,   0.,  18.,   0.,   0.,   0.],\n",
       "         [  0.,   0.,   0.,  19.,   0.,   0.,   0.,  28.],\n",
       "         [  0.,   0.,  19.,  20.,   0.,   0.,  28.,  29.],\n",
       "         [  0.,   0.,  20.,  21.,   0.,   0.,  29.,  30.],\n",
       "         [  0.,   0.,  21.,   0.,   0.,   0.,  30.,   0.],\n",
       "         [  0.,  19.,   0.,  22.,   0.,  28.,   0.,  31.],\n",
       "         [ 19.,  20.,  22.,  23.,  28.,  29.,  31.,  32.],\n",
       "         [ 20.,  21.,  23.,  24.,  29.,  30.,  32.,  33.],\n",
       "         [ 21.,   0.,  24.,   0.,  30.,   0.,  33.,   0.],\n",
       "         [  0.,  22.,   0.,  25.,   0.,  31.,   0.,  34.],\n",
       "         [ 22.,  23.,  25.,  26.,  31.,  32.,  34.,  35.],\n",
       "         [ 23.,  24.,  26.,  27.,  32.,  33.,  35.,  36.],\n",
       "         [ 24.,   0.,  27.,   0.,  33.,   0.,  36.,   0.],\n",
       "         [  0.,  25.,   0.,   0.,   0.,  34.,   0.,   0.],\n",
       "         [ 25.,  26.,   0.,   0.,  34.,  35.,   0.,   0.],\n",
       "         [ 26.,  27.,   0.,   0.,  35.,  36.,   0.,   0.],\n",
       "         [ 27.,   0.,   0.,   0.,  36.,   0.,   0.,   0.]])))"
      ]
     },
     "execution_count": 17,
     "metadata": {},
     "output_type": "execute_result"
    }
   ],
   "source": [
    "conv_forward_naive(X, W, b)"
   ]
  },
  {
   "cell_type": "code",
   "execution_count": 18,
   "metadata": {
    "collapsed": true
   },
   "outputs": [],
   "source": [
    "n_filters, d_filter, h_filter, w_filter = W.shape"
   ]
  },
  {
   "cell_type": "code",
   "execution_count": 19,
   "metadata": {},
   "outputs": [
    {
     "data": {
      "text/plain": [
       "(2, 8)"
      ]
     },
     "execution_count": 19,
     "metadata": {},
     "output_type": "execute_result"
    }
   ],
   "source": [
    "W.reshape(-1, d_filter*h_filter*w_filter).shape"
   ]
  },
  {
   "cell_type": "code",
   "execution_count": 20,
   "metadata": {
    "collapsed": true
   },
   "outputs": [],
   "source": [
    "b = np.linspace(-0.1, 0.2, num=3)"
   ]
  },
  {
   "cell_type": "code",
   "execution_count": 21,
   "metadata": {},
   "outputs": [
    {
     "data": {
      "text/plain": [
       "array([-0.1 ,  0.05,  0.2 ])"
      ]
     },
     "execution_count": 21,
     "metadata": {},
     "output_type": "execute_result"
    }
   ],
   "source": [
    "b"
   ]
  },
  {
   "cell_type": "code",
   "execution_count": 22,
   "metadata": {},
   "outputs": [
    {
     "data": {
      "text/plain": [
       "array([[ 1,  2,  3],\n",
       "       [ 4,  5,  6],\n",
       "       [ 7,  8,  9],\n",
       "       [10, 11, 12]])"
      ]
     },
     "execution_count": 22,
     "metadata": {},
     "output_type": "execute_result"
    }
   ],
   "source": [
    "xx = np.array([[1, 2, 3], [4, 5, 6], [7, 8, 9], [10,11,12]])\n",
    "xx"
   ]
  },
  {
   "cell_type": "code",
   "execution_count": 23,
   "metadata": {
    "collapsed": true
   },
   "outputs": [],
   "source": [
    "dd = np.array([[9]])"
   ]
  },
  {
   "cell_type": "code",
   "execution_count": 24,
   "metadata": {},
   "outputs": [
    {
     "data": {
      "text/plain": [
       "array([[9]])"
      ]
     },
     "execution_count": 24,
     "metadata": {},
     "output_type": "execute_result"
    }
   ],
   "source": [
    "dd"
   ]
  },
  {
   "cell_type": "code",
   "execution_count": 25,
   "metadata": {},
   "outputs": [
    {
     "data": {
      "text/plain": [
       "(1, 1)"
      ]
     },
     "execution_count": 25,
     "metadata": {},
     "output_type": "execute_result"
    }
   ],
   "source": [
    "dd.shape"
   ]
  },
  {
   "cell_type": "code",
   "execution_count": 26,
   "metadata": {},
   "outputs": [
    {
     "data": {
      "text/plain": [
       "array([[[ 1,  2,  3],\n",
       "        [ 4,  5,  6],\n",
       "        [ 7,  8,  9]],\n",
       "\n",
       "       [[10, 11, 12],\n",
       "        [13, 14, 15],\n",
       "        [16, 17, 18]]])"
      ]
     },
     "execution_count": 26,
     "metadata": {},
     "output_type": "execute_result"
    }
   ],
   "source": [
    "x = np.arange(1, 19).reshape((2, 3, 3))\n",
    "x"
   ]
  },
  {
   "cell_type": "code",
   "execution_count": 27,
   "metadata": {
    "collapsed": true
   },
   "outputs": [],
   "source": [
    "#rr = np.array([[1, 2, 3, 4, 10, 11, 13, 14],\n",
    "         #[2, 3, 5, 6, 11, 12, 14, 15],\n",
    "         #[4, 5, 7, 8, 13, 14, 16, 17],\n",
    "         #[5, 6, 8, 9, 14, 15, 17, 18]])\n",
    "#col2img_sliding(rr, (2, 3, 3), 2)"
   ]
  },
  {
   "cell_type": "code",
   "execution_count": 28,
   "metadata": {},
   "outputs": [
    {
     "data": {
      "text/plain": [
       "array([[[ 1,  2],\n",
       "        [ 3,  4]],\n",
       "\n",
       "       [[10, 11],\n",
       "        [13, 14]]])"
      ]
     },
     "execution_count": 28,
     "metadata": {},
     "output_type": "execute_result"
    }
   ],
   "source": [
    "np.array([ 1,  2,  3,  4, 10, 11, 13, 14]).reshape((2, 2, 2))"
   ]
  },
  {
   "cell_type": "code",
   "execution_count": 29,
   "metadata": {
    "collapsed": true
   },
   "outputs": [],
   "source": [
    "img = np.arange(64*30*30*30).reshape((64, 30, 30, 30))"
   ]
  },
  {
   "cell_type": "code",
   "execution_count": 30,
   "metadata": {},
   "outputs": [
    {
     "name": "stdout",
     "output_type": "stream",
     "text": [
      "h_new: 29\n",
      "w_new: 29\n",
      "output_vectors: (53824, 120)\n"
     ]
    }
   ],
   "source": [
    "im2col = im2col_sliding(img, 2)\n",
    "#im2col"
   ]
  },
  {
   "cell_type": "code",
   "execution_count": 31,
   "metadata": {},
   "outputs": [
    {
     "name": "stdout",
     "output_type": "stream",
     "text": [
      "10 loops, best of 3: 120 ms per loop\n"
     ]
    }
   ],
   "source": [
    "%%timeit \n",
    "img_ = col2img_sliding(im2col, (64, 30, 30, 30), 2)"
   ]
  },
  {
   "cell_type": "code",
   "execution_count": 32,
   "metadata": {},
   "outputs": [
    {
     "data": {
      "text/plain": [
       "True"
      ]
     },
     "execution_count": 32,
     "metadata": {},
     "output_type": "execute_result"
    }
   ],
   "source": [
    "np.allclose(img, col2img_sliding(im2col, (64, 30, 30, 30), 2))"
   ]
  },
  {
   "cell_type": "code",
   "execution_count": 33,
   "metadata": {},
   "outputs": [
    {
     "name": "stdout",
     "output_type": "stream",
     "text": [
      "h_new: 4\n",
      "w_new: 4\n",
      "output_vectors: (32, 8)\n"
     ]
    }
   ],
   "source": [
    "X = np.arange(1, 37).reshape(2, 2, 3, 3)\n",
    "im2col = im2col_sliding(X, 2, pad=1, stride=1)"
   ]
  },
  {
   "cell_type": "code",
   "execution_count": 34,
   "metadata": {},
   "outputs": [
    {
     "data": {
      "text/plain": [
       "array([[[[  1.,   2.,   3.],\n",
       "         [  4.,   5.,   6.],\n",
       "         [  7.,   8.,   9.]],\n",
       "\n",
       "        [[ 10.,  11.,  12.],\n",
       "         [ 13.,  14.,  15.],\n",
       "         [ 16.,  17.,  18.]]],\n",
       "\n",
       "\n",
       "       [[[ 19.,  20.,  21.],\n",
       "         [ 22.,  23.,  24.],\n",
       "         [ 25.,  26.,  27.]],\n",
       "\n",
       "        [[ 28.,  29.,  30.],\n",
       "         [ 31.,  32.,  33.],\n",
       "         [ 34.,  35.,  36.]]]])"
      ]
     },
     "execution_count": 34,
     "metadata": {},
     "output_type": "execute_result"
    }
   ],
   "source": [
    "col2img_sliding(im2col, (2, 2, 3, 3), 2, pad=1, stride=1)"
   ]
  },
  {
   "cell_type": "code",
   "execution_count": 35,
   "metadata": {},
   "outputs": [
    {
     "data": {
      "text/plain": [
       "array([[[[ 1,  2,  3],\n",
       "         [ 4,  5,  6],\n",
       "         [ 7,  8,  9]],\n",
       "\n",
       "        [[10, 11, 12],\n",
       "         [13, 14, 15],\n",
       "         [16, 17, 18]]],\n",
       "\n",
       "\n",
       "       [[[19, 20, 21],\n",
       "         [22, 23, 24],\n",
       "         [25, 26, 27]],\n",
       "\n",
       "        [[28, 29, 30],\n",
       "         [31, 32, 33],\n",
       "         [34, 35, 36]]]])"
      ]
     },
     "execution_count": 35,
     "metadata": {},
     "output_type": "execute_result"
    }
   ],
   "source": [
    "X "
   ]
  },
  {
   "cell_type": "code",
   "execution_count": 36,
   "metadata": {
    "collapsed": true
   },
   "outputs": [],
   "source": [
    "default = object()\n",
    "\n",
    "class Cout(object):\n",
    "    def __init__(self, s=''):\n",
    "        self.s = str(s)\n",
    "    def __lshift__(self, s):\n",
    "        return Cout(self.s + str(s))\n",
    "    def __repr__(self):\n",
    "        print(self.s, end='')\n",
    "        return ''\n",
    "cout = Cout()\n",
    "endl = '\\n'\n",
    "            \n",
    "class Case(object):\n",
    "    def __call__(self, x):\n",
    "        return x\n",
    "case = Case()\n",
    "\n",
    "class Switch(object):\n",
    "    def __call__(self, obj):\n",
    "        self.obj = obj\n",
    "        return self\n",
    "    def __or__(self, items):\n",
    "        output = items.get(self.obj, items[default])\n",
    "        if isinstance(output, Cout):\n",
    "            print(output.s)\n",
    "        else:\n",
    "            return output\n",
    "switch = Switch()"
   ]
  },
  {
   "cell_type": "code",
   "execution_count": 37,
   "metadata": {},
   "outputs": [
    {
     "name": "stdout",
     "output_type": "stream",
     "text": [
      "about sqrt(2), as much as it matters\n"
     ]
    }
   ],
   "source": [
    "x = 1\n",
    "\n",
    "switch (x) | {\n",
    "    case (1):\n",
    "        cout << \"about sqrt(2), as much as it matters\",\n",
    "    case (2):\n",
    "        cout << \"about e, more or less\",\n",
    "    case (3):\n",
    "        cout << \"about pi, to a good approximation\",\n",
    "    default:\n",
    "        cout << \"I don't know what you're talking about\",\n",
    "}"
   ]
  },
  {
   "cell_type": "code",
   "execution_count": 38,
   "metadata": {},
   "outputs": [
    {
     "data": {
      "text/plain": [
       "array([[[  1.30996845e-01,   8.09490692e-01,   3.44736653e-01,\n",
       "           9.40107482e-01],\n",
       "        [  5.82014180e-01,   8.78831984e-01,   8.44734445e-01,\n",
       "           9.05392319e-01],\n",
       "        [  4.59880266e-01,   5.46346816e-01,   7.98603591e-01,\n",
       "           2.85718852e-01],\n",
       "        [  4.90253523e-01,   5.99110308e-01,   1.55332756e-02,\n",
       "           5.93481408e-01]],\n",
       "\n",
       "       [[  4.33676349e-01,   8.07360529e-01,   3.15244803e-01,\n",
       "           8.92888709e-01],\n",
       "        [  5.77857215e-01,   1.84010202e-01,   7.87929234e-01,\n",
       "           6.12031177e-01],\n",
       "        [  5.39092721e-02,   4.20193680e-01,   6.79068837e-01,\n",
       "           9.18601778e-01],\n",
       "        [  4.02024891e-04,   9.76759149e-01,   3.76580315e-01,\n",
       "           9.73783538e-01]]])"
      ]
     },
     "execution_count": 38,
     "metadata": {},
     "output_type": "execute_result"
    }
   ],
   "source": [
    "r = np.random.rand(2, 4, 4)\n",
    "r"
   ]
  },
  {
   "cell_type": "code",
   "execution_count": 39,
   "metadata": {},
   "outputs": [
    {
     "data": {
      "text/plain": [
       "array([[[  1.30996845e-01,   8.09490692e-01,   3.44736653e-01,\n",
       "           9.40107482e-01],\n",
       "        [  4.33676349e-01,   8.07360529e-01,   3.15244803e-01,\n",
       "           8.92888709e-01]],\n",
       "\n",
       "       [[  5.82014180e-01,   8.78831984e-01,   8.44734445e-01,\n",
       "           9.05392319e-01],\n",
       "        [  5.77857215e-01,   1.84010202e-01,   7.87929234e-01,\n",
       "           6.12031177e-01]],\n",
       "\n",
       "       [[  4.59880266e-01,   5.46346816e-01,   7.98603591e-01,\n",
       "           2.85718852e-01],\n",
       "        [  5.39092721e-02,   4.20193680e-01,   6.79068837e-01,\n",
       "           9.18601778e-01]],\n",
       "\n",
       "       [[  4.90253523e-01,   5.99110308e-01,   1.55332756e-02,\n",
       "           5.93481408e-01],\n",
       "        [  4.02024891e-04,   9.76759149e-01,   3.76580315e-01,\n",
       "           9.73783538e-01]]])"
      ]
     },
     "execution_count": 39,
     "metadata": {},
     "output_type": "execute_result"
    }
   ],
   "source": [
    "r.transpose((1, 0, 2))"
   ]
  },
  {
   "cell_type": "code",
   "execution_count": 40,
   "metadata": {
    "collapsed": true
   },
   "outputs": [],
   "source": [
    "np.reshape?"
   ]
  },
  {
   "cell_type": "code",
   "execution_count": 41,
   "metadata": {},
   "outputs": [
    {
     "data": {
      "text/plain": [
       "(2, 4, 4)"
      ]
     },
     "execution_count": 41,
     "metadata": {},
     "output_type": "execute_result"
    }
   ],
   "source": [
    "r.shape"
   ]
  },
  {
   "cell_type": "code",
   "execution_count": 42,
   "metadata": {},
   "outputs": [
    {
     "data": {
      "text/plain": [
       "array([ 2.72898967,  5.22210336,  4.16243115,  6.12200526])"
      ]
     },
     "execution_count": 42,
     "metadata": {},
     "output_type": "execute_result"
    }
   ],
   "source": [
    "np.sum(r, axis=(0, 1))"
   ]
  },
  {
   "cell_type": "code",
   "execution_count": 43,
   "metadata": {},
   "outputs": [
    {
     "data": {
      "text/plain": [
       "array([[[  1.30996845e-01,   8.09490692e-01,   3.44736653e-01,\n",
       "           9.40107482e-01],\n",
       "        [  5.82014180e-01,   8.78831984e-01,   8.44734445e-01,\n",
       "           9.05392319e-01],\n",
       "        [  4.59880266e-01,   5.46346816e-01,   7.98603591e-01,\n",
       "           2.85718852e-01],\n",
       "        [  4.90253523e-01,   5.99110308e-01,   1.55332756e-02,\n",
       "           5.93481408e-01]],\n",
       "\n",
       "       [[  4.33676349e-01,   8.07360529e-01,   3.15244803e-01,\n",
       "           8.92888709e-01],\n",
       "        [  5.77857215e-01,   1.84010202e-01,   7.87929234e-01,\n",
       "           6.12031177e-01],\n",
       "        [  5.39092721e-02,   4.20193680e-01,   6.79068837e-01,\n",
       "           9.18601778e-01],\n",
       "        [  4.02024891e-04,   9.76759149e-01,   3.76580315e-01,\n",
       "           9.73783538e-01]]])"
      ]
     },
     "execution_count": 43,
     "metadata": {},
     "output_type": "execute_result"
    }
   ],
   "source": [
    "r"
   ]
  },
  {
   "cell_type": "code",
   "execution_count": 52,
   "metadata": {},
   "outputs": [
    {
     "name": "stdout",
     "output_type": "stream",
     "text": [
      "h_new: 2\n",
      "w_new: 2\n",
      "output_vectors: (8, 48)\n",
      "Testing conv_forward_naive\n",
      "difference:  1.0\n",
      "(2, 3, 2, 2)\n",
      "(2, 3, 2, 2)\n"
     ]
    }
   ],
   "source": [
    "def rel_error(x, y):\n",
    "  \"\"\" returns relative error \"\"\"\n",
    "  return np.max(np.abs(x - y) / (np.maximum(1e-8, np.abs(x) + np.abs(y))))\n",
    "\n",
    "\n",
    "x_shape = (2, 3, 4, 4)\n",
    "w_shape = (3, 3, 4, 4)\n",
    "x = np.linspace(-0.1, 0.5, num=np.prod(x_shape)).reshape(x_shape)\n",
    "w = np.linspace(-0.2, 0.3, num=np.prod(w_shape)).reshape(w_shape)\n",
    "b = np.linspace(-0.1, 0.2, num=3)\n",
    "\n",
    "out, cache = conv_forward_naive(x, w, b, stride=2, padding=1)\n",
    "correct_out = np.array([[[[-0.08759809, -0.10987781],\n",
    "                           [-0.18387192, -0.2109216 ]],\n",
    "                          [[ 0.21027089,  0.21661097],\n",
    "                           [ 0.22847626,  0.23004637]],\n",
    "                          [[ 0.50813986,  0.54309974],\n",
    "                           [ 0.64082444,  0.67101435]]],\n",
    "                         [[[-0.98053589, -1.03143541],\n",
    "                           [-1.19128892, -1.24695841]],\n",
    "                          [[ 0.69108355,  0.66880383],\n",
    "                           [ 0.59480972,  0.56776003]],\n",
    "                          [[ 2.36270298,  2.36904306],\n",
    "                           [ 2.38090835,  2.38247847]]]])\n",
    "\n",
    "# Compare your output to ours; difference should be around 2e-8\n",
    "print('Testing conv_forward_naive')\n",
    "print('difference: ', rel_error(out, correct_out))\n",
    "\n",
    "print(correct_out.shape)\n",
    "print(out.shape)"
   ]
  },
  {
   "cell_type": "code",
   "execution_count": 62,
   "metadata": {},
   "outputs": [
    {
     "ename": "TypeError",
     "evalue": "conv_forward_naive() got an unexpected keyword argument 'stride'",
     "output_type": "error",
     "traceback": [
      "\u001b[1;31m---------------------------------------------------------------------------\u001b[0m",
      "\u001b[1;31mTypeError\u001b[0m                                 Traceback (most recent call last)",
      "\u001b[1;32m<ipython-input-62-cef8100a9789>\u001b[0m in \u001b[0;36m<module>\u001b[1;34m()\u001b[0m\n\u001b[0;32m     81\u001b[0m \u001b[1;33m\u001b[0m\u001b[0m\n\u001b[0;32m     82\u001b[0m \u001b[0mdx_num\u001b[0m \u001b[1;33m=\u001b[0m \u001b[0meval_numerical_gradient_array\u001b[0m\u001b[1;33m(\u001b[0m\u001b[1;32mlambda\u001b[0m \u001b[0mx\u001b[0m\u001b[1;33m:\u001b[0m \u001b[0mconv_forward_naive\u001b[0m\u001b[1;33m(\u001b[0m\u001b[0mx\u001b[0m\u001b[1;33m,\u001b[0m \u001b[0mw\u001b[0m\u001b[1;33m,\u001b[0m \u001b[0mb\u001b[0m\u001b[1;33m,\u001b[0m \u001b[0mconv_param\u001b[0m\u001b[1;33m)\u001b[0m\u001b[1;33m[\u001b[0m\u001b[1;36m0\u001b[0m\u001b[1;33m]\u001b[0m\u001b[1;33m,\u001b[0m \u001b[0mx\u001b[0m\u001b[1;33m,\u001b[0m \u001b[0mdout\u001b[0m\u001b[1;33m)\u001b[0m\u001b[1;33m\u001b[0m\u001b[0m\n\u001b[1;32m---> 83\u001b[1;33m \u001b[0mdw_num\u001b[0m \u001b[1;33m=\u001b[0m \u001b[0meval_numerical_gradient_array\u001b[0m\u001b[1;33m(\u001b[0m\u001b[1;32mlambda\u001b[0m \u001b[0mw\u001b[0m\u001b[1;33m:\u001b[0m \u001b[0mconv_forward_naive\u001b[0m\u001b[1;33m(\u001b[0m\u001b[0mx\u001b[0m\u001b[1;33m,\u001b[0m \u001b[0mw\u001b[0m\u001b[1;33m,\u001b[0m \u001b[0mb\u001b[0m\u001b[1;33m,\u001b[0m \u001b[0mstride\u001b[0m\u001b[1;33m=\u001b[0m\u001b[1;36m2\u001b[0m\u001b[1;33m,\u001b[0m \u001b[0mpadding\u001b[0m\u001b[1;33m=\u001b[0m\u001b[1;36m1\u001b[0m\u001b[1;33m)\u001b[0m\u001b[1;33m[\u001b[0m\u001b[1;36m0\u001b[0m\u001b[1;33m]\u001b[0m\u001b[1;33m,\u001b[0m \u001b[0mw\u001b[0m\u001b[1;33m,\u001b[0m \u001b[0mdout\u001b[0m\u001b[1;33m)\u001b[0m\u001b[1;33m\u001b[0m\u001b[0m\n\u001b[0m\u001b[0;32m     84\u001b[0m \u001b[0mdb_num\u001b[0m \u001b[1;33m=\u001b[0m \u001b[0meval_numerical_gradient_array\u001b[0m\u001b[1;33m(\u001b[0m\u001b[1;32mlambda\u001b[0m \u001b[0mb\u001b[0m\u001b[1;33m:\u001b[0m \u001b[0mconv_forward_naive\u001b[0m\u001b[1;33m(\u001b[0m\u001b[0mx\u001b[0m\u001b[1;33m,\u001b[0m \u001b[0mw\u001b[0m\u001b[1;33m,\u001b[0m \u001b[0mb\u001b[0m\u001b[1;33m,\u001b[0m \u001b[0mstride\u001b[0m\u001b[1;33m=\u001b[0m\u001b[1;36m2\u001b[0m\u001b[1;33m,\u001b[0m \u001b[0mpadding\u001b[0m\u001b[1;33m=\u001b[0m\u001b[1;36m1\u001b[0m\u001b[1;33m)\u001b[0m\u001b[1;33m[\u001b[0m\u001b[1;36m0\u001b[0m\u001b[1;33m]\u001b[0m\u001b[1;33m,\u001b[0m \u001b[0mb\u001b[0m\u001b[1;33m,\u001b[0m \u001b[0mdout\u001b[0m\u001b[1;33m)\u001b[0m\u001b[1;33m\u001b[0m\u001b[0m\n\u001b[0;32m     85\u001b[0m \u001b[1;33m\u001b[0m\u001b[0m\n",
      "\u001b[1;32m<ipython-input-62-cef8100a9789>\u001b[0m in \u001b[0;36meval_numerical_gradient_array\u001b[1;34m(f, x, df, h)\u001b[0m\n\u001b[0;32m     59\u001b[0m         \u001b[0moldval\u001b[0m \u001b[1;33m=\u001b[0m \u001b[0mx\u001b[0m\u001b[1;33m[\u001b[0m\u001b[0mix\u001b[0m\u001b[1;33m]\u001b[0m\u001b[1;33m\u001b[0m\u001b[0m\n\u001b[0;32m     60\u001b[0m         \u001b[0mx\u001b[0m\u001b[1;33m[\u001b[0m\u001b[0mix\u001b[0m\u001b[1;33m]\u001b[0m \u001b[1;33m=\u001b[0m \u001b[0moldval\u001b[0m \u001b[1;33m+\u001b[0m \u001b[0mh\u001b[0m\u001b[1;33m\u001b[0m\u001b[0m\n\u001b[1;32m---> 61\u001b[1;33m         \u001b[0mpos\u001b[0m \u001b[1;33m=\u001b[0m \u001b[0mf\u001b[0m\u001b[1;33m(\u001b[0m\u001b[0mx\u001b[0m\u001b[1;33m)\u001b[0m\u001b[1;33m.\u001b[0m\u001b[0mcopy\u001b[0m\u001b[1;33m(\u001b[0m\u001b[1;33m)\u001b[0m\u001b[1;33m\u001b[0m\u001b[0m\n\u001b[0m\u001b[0;32m     62\u001b[0m         \u001b[0mx\u001b[0m\u001b[1;33m[\u001b[0m\u001b[0mix\u001b[0m\u001b[1;33m]\u001b[0m \u001b[1;33m=\u001b[0m \u001b[0moldval\u001b[0m \u001b[1;33m-\u001b[0m \u001b[0mh\u001b[0m\u001b[1;33m\u001b[0m\u001b[0m\n\u001b[0;32m     63\u001b[0m         \u001b[0mneg\u001b[0m \u001b[1;33m=\u001b[0m \u001b[0mf\u001b[0m\u001b[1;33m(\u001b[0m\u001b[0mx\u001b[0m\u001b[1;33m)\u001b[0m\u001b[1;33m.\u001b[0m\u001b[0mcopy\u001b[0m\u001b[1;33m(\u001b[0m\u001b[1;33m)\u001b[0m\u001b[1;33m\u001b[0m\u001b[0m\n",
      "\u001b[1;32m<ipython-input-62-cef8100a9789>\u001b[0m in \u001b[0;36m<lambda>\u001b[1;34m(w)\u001b[0m\n\u001b[0;32m     81\u001b[0m \u001b[1;33m\u001b[0m\u001b[0m\n\u001b[0;32m     82\u001b[0m \u001b[0mdx_num\u001b[0m \u001b[1;33m=\u001b[0m \u001b[0meval_numerical_gradient_array\u001b[0m\u001b[1;33m(\u001b[0m\u001b[1;32mlambda\u001b[0m \u001b[0mx\u001b[0m\u001b[1;33m:\u001b[0m \u001b[0mconv_forward_naive\u001b[0m\u001b[1;33m(\u001b[0m\u001b[0mx\u001b[0m\u001b[1;33m,\u001b[0m \u001b[0mw\u001b[0m\u001b[1;33m,\u001b[0m \u001b[0mb\u001b[0m\u001b[1;33m,\u001b[0m \u001b[0mconv_param\u001b[0m\u001b[1;33m)\u001b[0m\u001b[1;33m[\u001b[0m\u001b[1;36m0\u001b[0m\u001b[1;33m]\u001b[0m\u001b[1;33m,\u001b[0m \u001b[0mx\u001b[0m\u001b[1;33m,\u001b[0m \u001b[0mdout\u001b[0m\u001b[1;33m)\u001b[0m\u001b[1;33m\u001b[0m\u001b[0m\n\u001b[1;32m---> 83\u001b[1;33m \u001b[0mdw_num\u001b[0m \u001b[1;33m=\u001b[0m \u001b[0meval_numerical_gradient_array\u001b[0m\u001b[1;33m(\u001b[0m\u001b[1;32mlambda\u001b[0m \u001b[0mw\u001b[0m\u001b[1;33m:\u001b[0m \u001b[0mconv_forward_naive\u001b[0m\u001b[1;33m(\u001b[0m\u001b[0mx\u001b[0m\u001b[1;33m,\u001b[0m \u001b[0mw\u001b[0m\u001b[1;33m,\u001b[0m \u001b[0mb\u001b[0m\u001b[1;33m,\u001b[0m \u001b[0mstride\u001b[0m\u001b[1;33m=\u001b[0m\u001b[1;36m2\u001b[0m\u001b[1;33m,\u001b[0m \u001b[0mpadding\u001b[0m\u001b[1;33m=\u001b[0m\u001b[1;36m1\u001b[0m\u001b[1;33m)\u001b[0m\u001b[1;33m[\u001b[0m\u001b[1;36m0\u001b[0m\u001b[1;33m]\u001b[0m\u001b[1;33m,\u001b[0m \u001b[0mw\u001b[0m\u001b[1;33m,\u001b[0m \u001b[0mdout\u001b[0m\u001b[1;33m)\u001b[0m\u001b[1;33m\u001b[0m\u001b[0m\n\u001b[0m\u001b[0;32m     84\u001b[0m \u001b[0mdb_num\u001b[0m \u001b[1;33m=\u001b[0m \u001b[0meval_numerical_gradient_array\u001b[0m\u001b[1;33m(\u001b[0m\u001b[1;32mlambda\u001b[0m \u001b[0mb\u001b[0m\u001b[1;33m:\u001b[0m \u001b[0mconv_forward_naive\u001b[0m\u001b[1;33m(\u001b[0m\u001b[0mx\u001b[0m\u001b[1;33m,\u001b[0m \u001b[0mw\u001b[0m\u001b[1;33m,\u001b[0m \u001b[0mb\u001b[0m\u001b[1;33m,\u001b[0m \u001b[0mstride\u001b[0m\u001b[1;33m=\u001b[0m\u001b[1;36m2\u001b[0m\u001b[1;33m,\u001b[0m \u001b[0mpadding\u001b[0m\u001b[1;33m=\u001b[0m\u001b[1;36m1\u001b[0m\u001b[1;33m)\u001b[0m\u001b[1;33m[\u001b[0m\u001b[1;36m0\u001b[0m\u001b[1;33m]\u001b[0m\u001b[1;33m,\u001b[0m \u001b[0mb\u001b[0m\u001b[1;33m,\u001b[0m \u001b[0mdout\u001b[0m\u001b[1;33m)\u001b[0m\u001b[1;33m\u001b[0m\u001b[0m\n\u001b[0;32m     85\u001b[0m \u001b[1;33m\u001b[0m\u001b[0m\n",
      "\u001b[1;31mTypeError\u001b[0m: conv_forward_naive() got an unexpected keyword argument 'stride'"
     ]
    }
   ],
   "source": [
    "def conv_forward_naive(x, w, b, conv_param):\n",
    "    \"\"\"\n",
    "    A naive implementation of the forward pass for a convolutional layer.\n",
    "    The input consists of N data points, each with C channels, height H and width\n",
    "    W. We convolve each input with F different filters, where each filter spans\n",
    "    all C channels and has height HH and width HH.\n",
    "    Input:\n",
    "    - x: Input data of shape (N, C, H, W)\n",
    "    - w: Filter weights of shape (F, C, HH, WW)\n",
    "    - b: Biases, of shape (F,)\n",
    "    - conv_param: A dictionary with the following keys:\n",
    "      - 'stride': The number of pixels between adjacent receptive fields in the\n",
    "        horizontal and vertical directions.\n",
    "      - 'pad': The number of pixels that will be used to zero-pad the input.\n",
    "    Returns a tuple of:\n",
    "    - out: Output data, of shape (N, F, H', W') where H' and W' are given by\n",
    "      H' = 1 + (H + 2 * pad - HH) / stride\n",
    "      W' = 1 + (W + 2 * pad - WW) / stride\n",
    "    - cache: (x, w, b, conv_param)\n",
    "    \"\"\"\n",
    "    out = None\n",
    "    ##########################################################################\n",
    "    # TODO: Implement the convolutional forward pass.                           #\n",
    "    # Hint: you can use the function np.pad for padding.                        #\n",
    "    ##########################################################################\n",
    "    N, C, H, W = x.shape\n",
    "    F, C, HH, WW = w.shape\n",
    "    S = conv_param['stride']\n",
    "    P = conv_param['pad']\n",
    "\n",
    "    # Add padding to each image\n",
    "    x_pad = np.pad(x, ((0,), (0,), (P,), (P,)), 'constant')\n",
    "    # Size of the output\n",
    "    Hh = 1 + int((H + 2 * P - HH) / S)\n",
    "    Hw = 1 + int((W + 2 * P - WW) / S)\n",
    "\n",
    "    out = np.zeros((N, F, Hh, Hw))\n",
    "\n",
    "    for n in range(N):  # First, iterate over all the images\n",
    "        for f in range(F):  # Second, iterate over all the kernels\n",
    "            for k in range(Hh):\n",
    "                for l in range(Hw):\n",
    "                    out[n, f, k, l] = np.sum(\n",
    "                        x_pad[n, :, k * S:k * S + HH, l * S:l * S + WW] * w[f, :]) + b[f]\n",
    "\n",
    "    cache = (x, w, b, conv_param)\n",
    "    return out, cache\n",
    "\n",
    "def eval_numerical_gradient_array(f, x, df, h=1e-5):\n",
    "    \"\"\"\n",
    "    Evaluate a numeric gradient for a function that accepts a numpy\n",
    "    array and returns a numpy array.\n",
    "    \"\"\"\n",
    "    grad = np.zeros_like(x)\n",
    "    it = np.nditer(x, flags=['multi_index'], op_flags=['readwrite'])\n",
    "    while not it.finished:\n",
    "        ix = it.multi_index\n",
    "\n",
    "        oldval = x[ix]\n",
    "        x[ix] = oldval + h\n",
    "        pos = f(x).copy()\n",
    "        x[ix] = oldval - h\n",
    "        neg = f(x).copy()\n",
    "        x[ix] = oldval\n",
    "        \n",
    "        #print('---')\n",
    "        #print(pos.shape)\n",
    "        #print(neg.shape)\n",
    "        #print(grad.shape)\n",
    "        #print('-----')\n",
    "        grad[ix] = np.sum((pos - neg) * df) / (2 * h)\n",
    "        it.iternext()\n",
    "    return grad\n",
    "\n",
    "np.random.seed(231)\n",
    "x = np.random.randn(4, 3, 5, 5)\n",
    "w = np.random.randn(2, 3, 3, 3)\n",
    "b = np.random.randn(2,)\n",
    "dout = np.random.randn(4, 2, 5, 5)\n",
    "conv_param = {'stride': 1, 'pad': 1}\n",
    "\n",
    "dx_num = eval_numerical_gradient_array(lambda x: conv_forward_naive(x, w, b, conv_param)[0], x, dout)\n",
    "dw_num = eval_numerical_gradient_array(lambda w: conv_forward_naive(x, w, b, stride=2, padding=1)[0], w, dout)\n",
    "db_num = eval_numerical_gradient_array(lambda b: conv_forward_naive(x, w, b, stride=2, padding=1)[0], b, dout)\n",
    "\n",
    "out, cache = conv_forward_naive(x, w, b,  stride=2, padding=1)\n",
    "dx, dw, db = conv_backward_naive(dout, cache)\n",
    "\n",
    "# Your errors should be around 1e-8'\n",
    "print('Testing conv_backward_naive function')\n",
    "print('dx error: ', rel_error(dx, dx_num))\n",
    "print('dw error: ', rel_error(dw, dw_num))\n",
    "print('db error: ', rel_error(db, db_num))"
   ]
  },
  {
   "cell_type": "code",
   "execution_count": 65,
   "metadata": {},
   "outputs": [
    {
     "name": "stdout",
     "output_type": "stream",
     "text": [
      "Testing conv_forward_naive\n",
      "difference:  2.21214764175e-08\n"
     ]
    }
   ],
   "source": [
    "def rel_error(x, y):\n",
    "  \"\"\" returns relative error \"\"\"\n",
    "  return np.max(np.abs(x - y) / (np.maximum(1e-8, np.abs(x) + np.abs(y))))\n",
    "\n",
    "\n",
    "x_shape = (2, 3, 4, 4)\n",
    "w_shape = (3, 3, 4, 4)\n",
    "x = np.linspace(-0.1, 0.5, num=np.prod(x_shape)).reshape(x_shape)\n",
    "w = np.linspace(-0.2, 0.3, num=np.prod(w_shape)).reshape(w_shape)\n",
    "b = np.linspace(-0.1, 0.2, num=3)\n",
    "\n",
    "conv_param = {'stride': 2, 'pad': 1}\n",
    "out, _ = conv_forward_naive(x, w, b, conv_param)\n",
    "correct_out = np.array([[[[-0.08759809, -0.10987781],\n",
    "                           [-0.18387192, -0.2109216 ]],\n",
    "                          [[ 0.21027089,  0.21661097],\n",
    "                           [ 0.22847626,  0.23004637]],\n",
    "                          [[ 0.50813986,  0.54309974],\n",
    "                           [ 0.64082444,  0.67101435]]],\n",
    "                         [[[-0.98053589, -1.03143541],\n",
    "                           [-1.19128892, -1.24695841]],\n",
    "                          [[ 0.69108355,  0.66880383],\n",
    "                           [ 0.59480972,  0.56776003]],\n",
    "                          [[ 2.36270298,  2.36904306],\n",
    "                           [ 2.38090835,  2.38247847]]]])\n",
    "\n",
    "# Compare your output to ours; difference should be around 2e-8\n",
    "print('Testing conv_forward_naive')\n",
    "print('difference: ', rel_error(out, correct_out))"
   ]
  },
  {
   "cell_type": "code",
   "execution_count": 87,
   "metadata": {
    "collapsed": true
   },
   "outputs": [],
   "source": [
    "def im2col(x,hh,ww,stride):\n",
    "\n",
    "    \"\"\"\n",
    "    Args:\n",
    "      x: image matrix to be translated into columns, (C,H,W)\n",
    "      hh: filter height\n",
    "      ww: filter width\n",
    "      stride: stride\n",
    "    Returns:\n",
    "      col: (new_h*new_w,hh*ww*C) matrix, each column is a cube that will convolve with a filter\n",
    "            new_h = (H-hh) // stride + 1, new_w = (W-ww) // stride + 1\n",
    "    \"\"\"\n",
    "\n",
    "    c,h,w = x.shape\n",
    "    new_h = (h-hh) // stride + 1\n",
    "    new_w = (w-ww) // stride + 1\n",
    "    col = np.zeros([new_h*new_w,c*hh*ww])\n",
    "\n",
    "    for i in range(new_h):\n",
    "        for j in range(new_w):\n",
    "            patch = x[...,i*stride:i*stride+hh,j*stride:j*stride+ww]\n",
    "            col[i*new_w+j,:] = np.reshape(patch,-1)\n",
    "    return col\n",
    "\n",
    "def col2im(mul,h_prime,w_prime,C):\n",
    "    \"\"\"\n",
    "      Args:\n",
    "      mul: (h_prime*w_prime*w,F) matrix, each col should be reshaped to C*h_prime*w_prime when C>0, or h_prime*w_prime when C = 0\n",
    "      h_prime: reshaped filter height\n",
    "      w_prime: reshaped filter width\n",
    "      C: reshaped filter channel, if 0, reshape the filter to 2D, Otherwise reshape it to 3D\n",
    "    Returns:\n",
    "      if C == 0: (F,h_prime,w_prime) matrix\n",
    "      Otherwise: (F,C,h_prime,w_prime) matrix\n",
    "    \"\"\"\n",
    "    F = mul.shape[1]\n",
    "    if(C == 1):\n",
    "        out = np.zeros([F,h_prime,w_prime])\n",
    "        for i in range(F):\n",
    "            col = mul[:,i]\n",
    "            out[i,:,:] = np.reshape(col,(h_prime,w_prime))\n",
    "    else:\n",
    "        out = np.zeros([F,C,h_prime,w_prime])\n",
    "        for i in range(F):\n",
    "            col = mul[:,i]\n",
    "            out[i,:,:] = np.reshape(col,(C,h_prime,w_prime))\n",
    "\n",
    "    return out"
   ]
  },
  {
   "cell_type": "code",
   "execution_count": 92,
   "metadata": {},
   "outputs": [
    {
     "name": "stdout",
     "output_type": "stream",
     "text": [
      "[[[ 1  2  3]\n",
      "  [ 4  5  6]\n",
      "  [ 7  8  9]]\n",
      "\n",
      " [[10 11 12]\n",
      "  [13 14 15]\n",
      "  [16 17 18]]]\n",
      "[[  1.   2.   4.   5.  10.  11.  13.  14.]\n",
      " [  2.   3.   5.   6.  11.  12.  14.  15.]\n",
      " [  4.   5.   7.   8.  13.  14.  16.  17.]\n",
      " [  5.   6.   8.   9.  14.  15.  17.  18.]]\n"
     ]
    },
    {
     "ename": "ValueError",
     "evalue": "cannot reshape array of size 4 into shape (3,3)",
     "output_type": "error",
     "traceback": [
      "\u001b[1;31m---------------------------------------------------------------------------\u001b[0m",
      "\u001b[1;31mValueError\u001b[0m                                Traceback (most recent call last)",
      "\u001b[1;32m<ipython-input-92-6e8043947b4e>\u001b[0m in \u001b[0;36m<module>\u001b[1;34m()\u001b[0m\n\u001b[0;32m      3\u001b[0m \u001b[0mi2c\u001b[0m \u001b[1;33m=\u001b[0m \u001b[0mim2col\u001b[0m\u001b[1;33m(\u001b[0m\u001b[0mx\u001b[0m\u001b[1;33m,\u001b[0m \u001b[1;36m2\u001b[0m\u001b[1;33m,\u001b[0m \u001b[1;36m2\u001b[0m\u001b[1;33m,\u001b[0m \u001b[1;36m1\u001b[0m\u001b[1;33m)\u001b[0m\u001b[1;33m\u001b[0m\u001b[0m\n\u001b[0;32m      4\u001b[0m \u001b[0mprint\u001b[0m\u001b[1;33m(\u001b[0m\u001b[0mi2c\u001b[0m\u001b[1;33m)\u001b[0m\u001b[1;33m\u001b[0m\u001b[0m\n\u001b[1;32m----> 5\u001b[1;33m \u001b[0mcol2im\u001b[0m\u001b[1;33m(\u001b[0m\u001b[0mi2c\u001b[0m\u001b[1;33m,\u001b[0m\u001b[1;36m3\u001b[0m\u001b[1;33m,\u001b[0m\u001b[1;36m3\u001b[0m\u001b[1;33m,\u001b[0m\u001b[1;36m1\u001b[0m\u001b[1;33m)\u001b[0m\u001b[1;33m\u001b[0m\u001b[0m\n\u001b[0m",
      "\u001b[1;32m<ipython-input-87-9e5eda339269>\u001b[0m in \u001b[0;36mcol2im\u001b[1;34m(mul, h_prime, w_prime, C)\u001b[0m\n\u001b[0;32m     39\u001b[0m         \u001b[1;32mfor\u001b[0m \u001b[0mi\u001b[0m \u001b[1;32min\u001b[0m \u001b[0mrange\u001b[0m\u001b[1;33m(\u001b[0m\u001b[0mF\u001b[0m\u001b[1;33m)\u001b[0m\u001b[1;33m:\u001b[0m\u001b[1;33m\u001b[0m\u001b[0m\n\u001b[0;32m     40\u001b[0m             \u001b[0mcol\u001b[0m \u001b[1;33m=\u001b[0m \u001b[0mmul\u001b[0m\u001b[1;33m[\u001b[0m\u001b[1;33m:\u001b[0m\u001b[1;33m,\u001b[0m\u001b[0mi\u001b[0m\u001b[1;33m]\u001b[0m\u001b[1;33m\u001b[0m\u001b[0m\n\u001b[1;32m---> 41\u001b[1;33m             \u001b[0mout\u001b[0m\u001b[1;33m[\u001b[0m\u001b[0mi\u001b[0m\u001b[1;33m,\u001b[0m\u001b[1;33m:\u001b[0m\u001b[1;33m,\u001b[0m\u001b[1;33m:\u001b[0m\u001b[1;33m]\u001b[0m \u001b[1;33m=\u001b[0m \u001b[0mnp\u001b[0m\u001b[1;33m.\u001b[0m\u001b[0mreshape\u001b[0m\u001b[1;33m(\u001b[0m\u001b[0mcol\u001b[0m\u001b[1;33m,\u001b[0m\u001b[1;33m(\u001b[0m\u001b[0mh_prime\u001b[0m\u001b[1;33m,\u001b[0m\u001b[0mw_prime\u001b[0m\u001b[1;33m)\u001b[0m\u001b[1;33m)\u001b[0m\u001b[1;33m\u001b[0m\u001b[0m\n\u001b[0m\u001b[0;32m     42\u001b[0m     \u001b[1;32melse\u001b[0m\u001b[1;33m:\u001b[0m\u001b[1;33m\u001b[0m\u001b[0m\n\u001b[0;32m     43\u001b[0m         \u001b[0mout\u001b[0m \u001b[1;33m=\u001b[0m \u001b[0mnp\u001b[0m\u001b[1;33m.\u001b[0m\u001b[0mzeros\u001b[0m\u001b[1;33m(\u001b[0m\u001b[1;33m[\u001b[0m\u001b[0mF\u001b[0m\u001b[1;33m,\u001b[0m\u001b[0mC\u001b[0m\u001b[1;33m,\u001b[0m\u001b[0mh_prime\u001b[0m\u001b[1;33m,\u001b[0m\u001b[0mw_prime\u001b[0m\u001b[1;33m]\u001b[0m\u001b[1;33m)\u001b[0m\u001b[1;33m\u001b[0m\u001b[0m\n",
      "\u001b[1;32mD:\\Anaconda3\\lib\\site-packages\\numpy\\core\\fromnumeric.py\u001b[0m in \u001b[0;36mreshape\u001b[1;34m(a, newshape, order)\u001b[0m\n\u001b[0;32m    230\u001b[0m            [5, 6]])\n\u001b[0;32m    231\u001b[0m     \"\"\"\n\u001b[1;32m--> 232\u001b[1;33m     \u001b[1;32mreturn\u001b[0m \u001b[0m_wrapfunc\u001b[0m\u001b[1;33m(\u001b[0m\u001b[0ma\u001b[0m\u001b[1;33m,\u001b[0m \u001b[1;34m'reshape'\u001b[0m\u001b[1;33m,\u001b[0m \u001b[0mnewshape\u001b[0m\u001b[1;33m,\u001b[0m \u001b[0morder\u001b[0m\u001b[1;33m=\u001b[0m\u001b[0morder\u001b[0m\u001b[1;33m)\u001b[0m\u001b[1;33m\u001b[0m\u001b[0m\n\u001b[0m\u001b[0;32m    233\u001b[0m \u001b[1;33m\u001b[0m\u001b[0m\n\u001b[0;32m    234\u001b[0m \u001b[1;33m\u001b[0m\u001b[0m\n",
      "\u001b[1;32mD:\\Anaconda3\\lib\\site-packages\\numpy\\core\\fromnumeric.py\u001b[0m in \u001b[0;36m_wrapfunc\u001b[1;34m(obj, method, *args, **kwds)\u001b[0m\n\u001b[0;32m     55\u001b[0m \u001b[1;32mdef\u001b[0m \u001b[0m_wrapfunc\u001b[0m\u001b[1;33m(\u001b[0m\u001b[0mobj\u001b[0m\u001b[1;33m,\u001b[0m \u001b[0mmethod\u001b[0m\u001b[1;33m,\u001b[0m \u001b[1;33m*\u001b[0m\u001b[0margs\u001b[0m\u001b[1;33m,\u001b[0m \u001b[1;33m**\u001b[0m\u001b[0mkwds\u001b[0m\u001b[1;33m)\u001b[0m\u001b[1;33m:\u001b[0m\u001b[1;33m\u001b[0m\u001b[0m\n\u001b[0;32m     56\u001b[0m     \u001b[1;32mtry\u001b[0m\u001b[1;33m:\u001b[0m\u001b[1;33m\u001b[0m\u001b[0m\n\u001b[1;32m---> 57\u001b[1;33m         \u001b[1;32mreturn\u001b[0m \u001b[0mgetattr\u001b[0m\u001b[1;33m(\u001b[0m\u001b[0mobj\u001b[0m\u001b[1;33m,\u001b[0m \u001b[0mmethod\u001b[0m\u001b[1;33m)\u001b[0m\u001b[1;33m(\u001b[0m\u001b[1;33m*\u001b[0m\u001b[0margs\u001b[0m\u001b[1;33m,\u001b[0m \u001b[1;33m**\u001b[0m\u001b[0mkwds\u001b[0m\u001b[1;33m)\u001b[0m\u001b[1;33m\u001b[0m\u001b[0m\n\u001b[0m\u001b[0;32m     58\u001b[0m \u001b[1;33m\u001b[0m\u001b[0m\n\u001b[0;32m     59\u001b[0m     \u001b[1;31m# An AttributeError occurs if the object does not have\u001b[0m\u001b[1;33m\u001b[0m\u001b[1;33m\u001b[0m\u001b[0m\n",
      "\u001b[1;31mValueError\u001b[0m: cannot reshape array of size 4 into shape (3,3)"
     ]
    }
   ],
   "source": [
    "x = np.arange(1, 19).reshape(2, 3, 3)\n",
    "print(x)\n",
    "i2c = im2col(x, 2, 2, 1)\n",
    "print(i2c)\n",
    "col2im(i2c,3,3,1)"
   ]
  },
  {
   "cell_type": "code",
   "execution_count": null,
   "metadata": {
    "collapsed": true
   },
   "outputs": [],
   "source": []
  }
 ],
 "metadata": {
  "kernelspec": {
   "display_name": "Python 3",
   "language": "python",
   "name": "python3"
  },
  "language_info": {
   "codemirror_mode": {
    "name": "ipython",
    "version": 3
   },
   "file_extension": ".py",
   "mimetype": "text/x-python",
   "name": "python",
   "nbconvert_exporter": "python",
   "pygments_lexer": "ipython3",
   "version": "3.6.1"
  }
 },
 "nbformat": 4,
 "nbformat_minor": 2
}
