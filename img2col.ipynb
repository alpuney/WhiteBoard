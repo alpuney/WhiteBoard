{
 "cells": [
  {
   "cell_type": "code",
   "execution_count": 1,
   "metadata": {
    "collapsed": true
   },
   "outputs": [],
   "source": [
    "import numpy as np"
   ]
  },
  {
   "cell_type": "code",
   "execution_count": 2,
   "metadata": {
    "collapsed": true
   },
   "outputs": [],
   "source": [
    "np.random.seed(1)\n",
    "A_prev = np.random.randn(2, 4, 4, 3)\n",
    "hparameters = {\"stride\" : 2, \"f\": 3}"
   ]
  },
  {
   "cell_type": "code",
   "execution_count": 3,
   "metadata": {
    "collapsed": true
   },
   "outputs": [],
   "source": [
    "def get_im2col_indices(x_shape, field_height, field_width, padding=1, stride=1):\n",
    "    # First figure out what the size of the output should be\n",
    "    N, C, H, W = x_shape\n",
    "    assert (H + 2 * padding - field_height) % stride == 0\n",
    "    assert (W + 2 * padding - field_height) % stride == 0\n",
    "    out_height = int((H + 2 * padding - field_height) / stride + 1)\n",
    "    out_width = int((W + 2 * padding - field_width) / stride + 1)\n",
    "\n",
    "    i0 = np.repeat(np.arange(field_height), field_width)\n",
    "    i0 = np.tile(i0, C)\n",
    "    i1 = stride * np.repeat(np.arange(out_height), out_width)\n",
    "    j0 = np.tile(np.arange(field_width), field_height * C)\n",
    "    j1 = stride * np.tile(np.arange(out_width), out_height)\n",
    "    i = i0.reshape(-1, 1) + i1.reshape(1, -1)\n",
    "    j = j0.reshape(-1, 1) + j1.reshape(1, -1)\n",
    "\n",
    "    k = np.repeat(np.arange(C), field_height * field_width).reshape(-1, 1)\n",
    "\n",
    "    return (k.astype(int), i.astype(int), j.astype(int))\n",
    "\n",
    "\n",
    "def im2col_indices(x, field_height, field_width, padding=1, stride=1):\n",
    "    \"\"\" An implementation of im2col based on some fancy indexing \"\"\"\n",
    "    # Zero-pad the input\n",
    "    p = padding\n",
    "    x_padded = np.pad(x, ((0, 0), (0, 0), (p, p), (p, p)), mode='constant')\n",
    "\n",
    "    k, i, j = get_im2col_indices(x.shape, field_height, field_width, padding, stride)\n",
    "\n",
    "    cols = x_padded[:, k, i, j]\n",
    "    C = x.shape[1]\n",
    "    cols = cols.transpose(1, 2, 0).reshape(field_height * field_width * C, -1)\n",
    "    return cols\n",
    "\n",
    "\n",
    "def col2im_indices(cols, x_shape, field_height=3, field_width=3, padding=1,\n",
    "                   stride=1):\n",
    "    \"\"\" An implementation of col2im based on fancy indexing and np.add.at \"\"\"\n",
    "    N, C, H, W = x_shape\n",
    "    H_padded, W_padded = H + 2 * padding, W + 2 * padding\n",
    "    x_padded = np.zeros((N, C, H_padded, W_padded), dtype=cols.dtype)\n",
    "    k, i, j = get_im2col_indices(x_shape, field_height, field_width, padding, stride)\n",
    "    cols_reshaped = cols.reshape(C * field_height * field_width, -1, N)\n",
    "    cols_reshaped = cols_reshaped.transpose(2, 0, 1)\n",
    "    np.add.at(x_padded, (slice(None), k, i, j), cols_reshaped)\n",
    "    if padding == 0:\n",
    "        return x_padded\n",
    "    return x_padded[:, :, padding:-padding, padding:-padding]\n",
    "\n",
    "def conv_forward(X, W, b, stride=1, padding=1):\n",
    "    cache = W, b, stride, padding\n",
    "    n_filters, d_filter, h_filter, w_filter = W.shape\n",
    "    n_x, d_x, h_x, w_x = X.shape\n",
    "    h_out = (h_x - h_filter + 2 * padding) / stride + 1\n",
    "    w_out = (w_x - w_filter + 2 * padding) / stride + 1\n",
    "\n",
    "    if not h_out.is_integer() or not w_out.is_integer():\n",
    "        raise Exception('Invalid output dimension!')\n",
    "\n",
    "    h_out, w_out = int(h_out), int(w_out)\n",
    "\n",
    "    X_col = im2col_indices(X, h_filter, w_filter, padding=padding, stride=stride)\n",
    "    W_col = W.reshape(n_filters, -1)\n",
    "\n",
    "    #out = W_col @ X_col + b\n",
    "    out = W_col @ X_col\n",
    "    out = out.reshape(n_filters, h_out, w_out, n_x)\n",
    "    out = out.transpose(3, 0, 1, 2)\n",
    "\n",
    "    cache = (X, W, b, stride, padding, X_col)\n",
    "\n",
    "    return out, cache\n",
    "\n",
    "\n",
    "def conv_backward(dout, cache):\n",
    "    X, W, b, stride, padding, X_col = cache\n",
    "    n_filter, d_filter, h_filter, w_filter = W.shape\n",
    "\n",
    "    db = np.sum(dout, axis=(0, 2, 3))\n",
    "    db = db.reshape(n_filter, -1)\n",
    "\n",
    "    dout_reshaped = dout.transpose(1, 2, 3, 0).reshape(n_filter, -1)\n",
    "    dW = dout_reshaped @ X_col.T\n",
    "    dW = dW.reshape(W.shape)\n",
    "\n",
    "    W_reshape = W.reshape(n_filter, -1)\n",
    "    dX_col = W_reshape.T @ dout_reshaped\n",
    "    dX = col2im_indices(dX_col, X.shape, h_filter, w_filter, padding=padding, stride=stride)\n",
    "\n",
    "    return dX, dW, db"
   ]
  },
  {
   "cell_type": "code",
   "execution_count": 4,
   "metadata": {
    "collapsed": true
   },
   "outputs": [],
   "source": [
    "x1 = np.random.randn(1, 3, 3)\n",
    "x2 = np.random.randn(1, 3, 3)\n",
    "x = np.array([x1, x2])\n",
    "#x = np.reshape(x, newshape=(-1, -1, 2, 2))"
   ]
  },
  {
   "cell_type": "code",
   "execution_count": 5,
   "metadata": {},
   "outputs": [
    {
     "data": {
      "text/plain": [
       "array([[[[-0.34385368,  0.04359686, -0.62000084],\n",
       "         [ 0.69803203, -0.44712856,  1.2245077 ],\n",
       "         [ 0.40349164,  0.59357852, -1.09491185]]],\n",
       "\n",
       "\n",
       "       [[[ 0.16938243,  0.74055645, -0.9537006 ],\n",
       "         [-0.26621851,  0.03261455, -1.37311732],\n",
       "         [ 0.31515939,  0.84616065, -0.85951594]]]])"
      ]
     },
     "execution_count": 5,
     "metadata": {},
     "output_type": "execute_result"
    }
   ],
   "source": [
    "x"
   ]
  },
  {
   "cell_type": "code",
   "execution_count": 6,
   "metadata": {},
   "outputs": [
    {
     "data": {
      "text/plain": [
       "array([[-0.34385368,  0.16938243,  0.04359686,  0.74055645,  0.69803203,\n",
       "        -0.26621851, -0.44712856,  0.03261455],\n",
       "       [ 0.04359686,  0.74055645, -0.62000084, -0.9537006 , -0.44712856,\n",
       "         0.03261455,  1.2245077 , -1.37311732],\n",
       "       [ 0.69803203, -0.26621851, -0.44712856,  0.03261455,  0.40349164,\n",
       "         0.31515939,  0.59357852,  0.84616065],\n",
       "       [-0.44712856,  0.03261455,  1.2245077 , -1.37311732,  0.59357852,\n",
       "         0.84616065, -1.09491185, -0.85951594]])"
      ]
     },
     "execution_count": 6,
     "metadata": {},
     "output_type": "execute_result"
    }
   ],
   "source": [
    "im2col_indices(x, 2, 2, 0, 1)"
   ]
  },
  {
   "cell_type": "code",
   "execution_count": 7,
   "metadata": {
    "collapsed": true
   },
   "outputs": [],
   "source": [
    "x1 = np.random.randn(1, 3, 3)\n",
    "x2 = np.random.randn(1, 3, 3)\n",
    "x = np.array([x1])"
   ]
  },
  {
   "cell_type": "code",
   "execution_count": 8,
   "metadata": {},
   "outputs": [
    {
     "data": {
      "text/plain": [
       "array([[[[ 0.35054598, -1.31228341, -0.03869551],\n",
       "         [-1.61577235,  1.12141771,  0.40890054],\n",
       "         [-0.02461696, -0.77516162,  1.27375593]]]])"
      ]
     },
     "execution_count": 8,
     "metadata": {},
     "output_type": "execute_result"
    }
   ],
   "source": [
    "x"
   ]
  },
  {
   "cell_type": "code",
   "execution_count": 9,
   "metadata": {},
   "outputs": [
    {
     "data": {
      "text/plain": [
       "array([[ 0.35054598, -1.31228341, -1.61577235,  1.12141771],\n",
       "       [-1.31228341, -0.03869551,  1.12141771,  0.40890054],\n",
       "       [-1.61577235,  1.12141771, -0.02461696, -0.77516162],\n",
       "       [ 1.12141771,  0.40890054, -0.77516162,  1.27375593]])"
      ]
     },
     "execution_count": 9,
     "metadata": {},
     "output_type": "execute_result"
    }
   ],
   "source": [
    "im2col_indices(x, 2, 2, 0, 1)"
   ]
  },
  {
   "cell_type": "code",
   "execution_count": 10,
   "metadata": {
    "collapsed": true
   },
   "outputs": [],
   "source": [
    "w = np.random.randn(3, 1, 2, 2)"
   ]
  },
  {
   "cell_type": "code",
   "execution_count": 11,
   "metadata": {},
   "outputs": [
    {
     "data": {
      "text/plain": [
       "array([[[[-1.23005814,  0.5505375 ],\n",
       "         [ 0.79280687, -0.62353073]]],\n",
       "\n",
       "\n",
       "       [[[ 0.52057634, -1.14434139],\n",
       "         [ 0.80186103,  0.0465673 ]]],\n",
       "\n",
       "\n",
       "       [[[-0.18656977, -0.10174587],\n",
       "         [ 0.86888616,  0.75041164]]]])"
      ]
     },
     "execution_count": 11,
     "metadata": {},
     "output_type": "execute_result"
    }
   ],
   "source": [
    "w"
   ]
  },
  {
   "cell_type": "code",
   "execution_count": 12,
   "metadata": {},
   "outputs": [
    {
     "data": {
      "text/plain": [
       "array([[-1.23005814,  0.5505375 ,  0.79280687, -0.62353073],\n",
       "       [ 0.52057634, -1.14434139,  0.80186103,  0.0465673 ],\n",
       "       [-0.18656977, -0.10174587,  0.86888616,  0.75041164]])"
      ]
     },
     "execution_count": 12,
     "metadata": {},
     "output_type": "execute_result"
    }
   ],
   "source": [
    "w.reshape(3, -1)"
   ]
  },
  {
   "cell_type": "code",
   "execution_count": 13,
   "metadata": {
    "collapsed": true
   },
   "outputs": [],
   "source": [
    "# https://stackoverflow.com/questions/30109068/implement-matlabs-im2col-sliding-in-python\n",
    "# https://stackoverflow.com/questions/30109068/implement-matlabs-im2col-sliding-in-python/31404264#31404264"
   ]
  },
  {
   "cell_type": "code",
   "execution_count": 23,
   "metadata": {},
   "outputs": [],
   "source": [
    "def zero_pad(X, pad):\n",
    "    X_pad = np.pad(X, ((0, 0), (0,0), (pad, pad), (pad, pad)), 'constant', constant_values=(0, 0))\n",
    "    return X_pad\n",
    "\n",
    "def im2col_sliding(image, f, pad=0, stride=1):\n",
    "    M, C, h, w, = image.shape\n",
    "    if pad > 0:\n",
    "        image_pad = zero_pad(image, pad)\n",
    "        #print(image_pad)\n",
    "    else:\n",
    "        image_pad = image\n",
    "    \n",
    "    h_new = int((h - f + 2*pad) / stride + 1)\n",
    "    w_new = int((w - f + 2*pad) / stride + 1)\n",
    "    print('h_new: {}'.format(h_new))\n",
    "    print('w_new: {}'.format(w_new))\n",
    "    \n",
    "    output_vectors = np.zeros((M*h_new*w_new, f*f*C))\n",
    "    print('output_vectors: {}'.format(output_vectors.shape))\n",
    "    \n",
    "    itr = 0\n",
    "    for m in range(M):\n",
    "        for i in range(h_new):\n",
    "            for j in range(w_new):\n",
    "                start_i = stride * i\n",
    "                end_i = stride * i + f\n",
    "                start_j = stride * j\n",
    "                end_j = stride * j + f\n",
    "                output_vectors[itr, :] = image_pad[m, :, start_i:end_i, start_j:end_j].ravel()\n",
    "                itr += 1                    \n",
    "    return output_vectors\n",
    "\n",
    "def col2img_sliding(cols,  x_shape, f, pad=0, stride=1):\n",
    "    N, C, H, W = x_shape\n",
    "    H_padded, W_padded = H + 2 * pad, W + 2 * pad\n",
    "    x_padded = np.zeros((N, C, H_padded, W_padded), dtype=cols.dtype)\n",
    "    \n",
    "    idx = 0\n",
    "    for i in range(H_padded):\n",
    "        for j in range(W_padded):\n",
    "            col = cols[idx, :]\n",
    "            start_i =     \n",
    "\n",
    "def conv_forward_naive(X, W, b, stride=1, padding=1):\n",
    "    cache = W, b, stride, padding\n",
    "    n_filters, d_filter, h_filter, w_filter = W.shape\n",
    "    n_x, d_x, h_x, w_x = X.shape\n",
    "    h_out = int((h_x - h_filter + 2 * padding) / stride) + 1\n",
    "    w_out = int((w_x - w_filter + 2 * padding) / stride) + 1\n",
    "    \n",
    "    X_col = im2col_sliding(X, f=h_filter, pad=padding, stride=stride)\n",
    "    W_col = W.reshape(-1, d_filter*h_filter*w_filter).T\n",
    "    out = X_col @ W_col + b\n",
    "    out = out.T\n",
    "    out = out.reshape(n_x, n_filters, w_out, h_out)\n",
    "    return out"
   ]
  },
  {
   "cell_type": "code",
   "execution_count": 24,
   "metadata": {},
   "outputs": [
    {
     "name": "stdout",
     "output_type": "stream",
     "text": [
      "[[[[ -19.13831239    1.19283214    1.80767911   27.77403072]\n",
      "   [ -23.51280678   14.9051147    16.67198877   48.41418362]\n",
      "   [ -29.97532078   20.20573691   21.97261098   60.17731982]\n",
      "   [   1.34005435   18.77990424   19.93193134   19.99322583]]\n",
      "\n",
      "  [[  -3.12171341   12.18524078   15.50908096   23.56246247]\n",
      "   [  -6.09119687   21.26005167   24.65581681   33.72508878]\n",
      "   [  -5.67350685   31.44734707   34.8431122    43.49469416]\n",
      "   [   2.68938036   -0.46515992   -0.39323496   -5.03620832]]]\n",
      "\n",
      "\n",
      " [[[ -56.41746588   12.26007761   12.87492458   76.12042967]\n",
      "   [ -62.28789078   46.70884794   48.475722    118.99300086]\n",
      "   [ -68.75040478   52.00947014   53.77634421  130.75613706]\n",
      "   [  -0.15587616   39.51639201   40.6684191    42.22564412]]\n",
      "\n",
      "  [[ -12.76868095   72.01436399   75.33820416   93.03855322]\n",
      "   [  -3.58505673   82.38382405   85.77958919   92.34272102]\n",
      "   [  -3.1673667    92.57111945   95.96688458  102.11232639]\n",
      "   [  14.84248805    0.82948926    0.90141421  -15.89466683]]]]\n"
     ]
    },
    {
     "data": {
      "text/plain": [
       "(2, 2, 4, 4)"
      ]
     },
     "execution_count": 24,
     "metadata": {},
     "output_type": "execute_result"
    }
   ],
   "source": [
    "X = np.arange(1, 37).reshape(2, 2, 3, 3)\n",
    "W = np.random.randn(2, 2, 2, 2)\n",
    "b = np.random.randn(2,)\n",
    "#conv_forward_naive(X, W, b)\n",
    "\n",
    "out, _ = conv_forward(X, W, b, stride=1, padding=1)\n",
    "print(out)\n",
    "out.shape"
   ]
  },
  {
   "cell_type": "code",
   "execution_count": 25,
   "metadata": {},
   "outputs": [
    {
     "name": "stdout",
     "output_type": "stream",
     "text": [
      "[[[[ 0  0  0  0  0]\n",
      "   [ 0  1  2  3  0]\n",
      "   [ 0  4  5  6  0]\n",
      "   [ 0  7  8  9  0]\n",
      "   [ 0  0  0  0  0]]\n",
      "\n",
      "  [[ 0  0  0  0  0]\n",
      "   [ 0 10 11 12  0]\n",
      "   [ 0 13 14 15  0]\n",
      "   [ 0 16 17 18  0]\n",
      "   [ 0  0  0  0  0]]]\n",
      "\n",
      "\n",
      " [[[ 0  0  0  0  0]\n",
      "   [ 0 19 20 21  0]\n",
      "   [ 0 22 23 24  0]\n",
      "   [ 0 25 26 27  0]\n",
      "   [ 0  0  0  0  0]]\n",
      "\n",
      "  [[ 0  0  0  0  0]\n",
      "   [ 0 28 29 30  0]\n",
      "   [ 0 31 32 33  0]\n",
      "   [ 0 34 35 36  0]\n",
      "   [ 0  0  0  0  0]]]]\n",
      "h_new: 4\n",
      "w_new: 4\n",
      "output_vectors: (32, 8)\n",
      "[[[[ -18.45824255    1.87290198    2.48774895   28.45410056]\n",
      "   [ -22.83273694   15.58518454   17.35205861   49.09425346]\n",
      "   [ -29.29525094   20.88580675   22.65268082   60.85738966]\n",
      "   [   2.02012419   19.45997408   20.61200118   20.67329567]]\n",
      "\n",
      "  [[ -55.73739604   12.94014745   13.55499442   76.80049951]\n",
      "   [ -61.60782094   47.38891778   49.15579184  119.6730707 ]\n",
      "   [ -68.07033494   52.68953998   54.45641405  131.4362069 ]\n",
      "   [   0.52419368   40.19646185   41.34848894   42.90571396]]]\n",
      "\n",
      "\n",
      " [[[  -3.44151501   11.86543918   15.18927936   23.24266087]\n",
      "   [  -6.41099847   20.94025007   24.33601521   33.40528718]\n",
      "   [  -5.99330844   31.12754547   34.5233106    43.17489256]\n",
      "   [   2.36957876   -0.78496152   -0.71303656   -5.35600992]]\n",
      "\n",
      "  [[ -13.08848255   71.69456239   75.01840257   92.71875162]\n",
      "   [  -3.90485833   82.06402245   85.45978759   92.02291942]\n",
      "   [  -3.4871683    92.25131785   95.64708298  101.79252479]\n",
      "   [  14.52268645    0.50968766    0.58161261  -16.21446843]]]]\n",
      "(2, 2, 4, 4)\n"
     ]
    }
   ],
   "source": [
    "conv_forward_naive(X, W, b)"
   ]
  },
  {
   "cell_type": "code",
   "execution_count": 17,
   "metadata": {
    "collapsed": true
   },
   "outputs": [],
   "source": [
    "n_filters, d_filter, h_filter, w_filter = W.shape"
   ]
  },
  {
   "cell_type": "code",
   "execution_count": 18,
   "metadata": {},
   "outputs": [
    {
     "data": {
      "text/plain": [
       "(2, 8)"
      ]
     },
     "execution_count": 18,
     "metadata": {},
     "output_type": "execute_result"
    }
   ],
   "source": [
    "W.reshape(-1, d_filter*h_filter*w_filter).shape"
   ]
  },
  {
   "cell_type": "code",
   "execution_count": 19,
   "metadata": {
    "collapsed": true
   },
   "outputs": [],
   "source": [
    "b = np.linspace(-0.1, 0.2, num=3)"
   ]
  },
  {
   "cell_type": "code",
   "execution_count": 20,
   "metadata": {},
   "outputs": [
    {
     "data": {
      "text/plain": [
       "array([-0.1 ,  0.05,  0.2 ])"
      ]
     },
     "execution_count": 20,
     "metadata": {},
     "output_type": "execute_result"
    }
   ],
   "source": [
    "b"
   ]
  },
  {
   "cell_type": "code",
   "execution_count": 21,
   "metadata": {},
   "outputs": [
    {
     "data": {
      "text/plain": [
       "array([[ 1,  2,  3],\n",
       "       [ 4,  5,  6],\n",
       "       [ 7,  8,  9],\n",
       "       [10, 11, 12]])"
      ]
     },
     "execution_count": 21,
     "metadata": {},
     "output_type": "execute_result"
    }
   ],
   "source": [
    "xx = np.array([[1, 2, 3], [4, 5, 6], [7, 8, 9], [10,11,12]])\n",
    "xx"
   ]
  },
  {
   "cell_type": "code",
   "execution_count": 22,
   "metadata": {},
   "outputs": [
    {
     "data": {
      "text/plain": [
       "array([[ 1,  4,  7, 10],\n",
       "       [ 2,  5,  8, 11],\n",
       "       [ 3,  6,  9, 12]])"
      ]
     },
     "execution_count": 22,
     "metadata": {},
     "output_type": "execute_result"
    }
   ],
   "source": [
    "xx.transpose(1, 0)"
   ]
  },
  {
   "cell_type": "code",
   "execution_count": null,
   "metadata": {
    "collapsed": true
   },
   "outputs": [],
   "source": []
  }
 ],
 "metadata": {
  "kernelspec": {
   "display_name": "Python 3",
   "language": "python",
   "name": "python3"
  },
  "language_info": {
   "codemirror_mode": {
    "name": "ipython",
    "version": 3
   },
   "file_extension": ".py",
   "mimetype": "text/x-python",
   "name": "python",
   "nbconvert_exporter": "python",
   "pygments_lexer": "ipython3",
   "version": "3.6.1"
  }
 },
 "nbformat": 4,
 "nbformat_minor": 2
}
