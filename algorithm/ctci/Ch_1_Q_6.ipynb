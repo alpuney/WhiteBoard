{
 "cells": [
  {
   "cell_type": "code",
   "execution_count": 1,
   "metadata": {
    "collapsed": true
   },
   "outputs": [],
   "source": [
    "def simple_str_compression(string):\n",
    "    size = len(string)\n",
    "    comprssed_str = ''\n",
    "    i = 0\n",
    "    while i < size:\n",
    "        current_char = string[i]\n",
    "        counter = 1\n",
    "        i += 1\n",
    "        while i < size and current_char == string[i]:\n",
    "            i += 1\n",
    "            counter += 1\n",
    "        comprssed_str += '{}{}'.format(current_char, str(counter))\n",
    "    \n",
    "    if len(comprssed_str) > size:\n",
    "        return string\n",
    "    else:\n",
    "        return comprssed_str                "
   ]
  },
  {
   "cell_type": "code",
   "execution_count": 2,
   "metadata": {},
   "outputs": [],
   "source": [
    "assert simple_str_compression('abaaaaa') == 'a1b1a5'\n",
    "assert simple_str_compression('abc') == 'abc'\n",
    "assert simple_str_compression('aaaAAAZAAAAA') == 'a3A3Z1A5'\n",
    "assert simple_str_compression('aabcccccaaa') == 'a2b1c5a3'"
   ]
  },
  {
   "cell_type": "code",
   "execution_count": null,
   "metadata": {
    "collapsed": true
   },
   "outputs": [],
   "source": []
  }
 ],
 "metadata": {
  "kernelspec": {
   "display_name": "Python 3",
   "language": "python",
   "name": "python3"
  },
  "language_info": {
   "codemirror_mode": {
    "name": "ipython",
    "version": 3
   },
   "file_extension": ".py",
   "mimetype": "text/x-python",
   "name": "python",
   "nbconvert_exporter": "python",
   "pygments_lexer": "ipython3",
   "version": "3.6.3"
  }
 },
 "nbformat": 4,
 "nbformat_minor": 2
}
