{
 "cells": [
  {
   "cell_type": "code",
   "execution_count": 1,
   "metadata": {
    "collapsed": true
   },
   "outputs": [],
   "source": [
    "def all_unique_chars(string):\n",
    "    \"\"\"\n",
    "    Assumptions: \n",
    "    1. Our strings are ASCII strings\n",
    "    2. No white spaces are present in strings\n",
    "    3. Don't differentiate between upper and lower case letters.\n",
    "    \"\"\"\n",
    "    if len(string) > 128:\n",
    "        return False\n",
    "    \n",
    "    chars = set()\n",
    "    for char in string:\n",
    "        char = char.lower()\n",
    "        if char in chars:\n",
    "            return False\n",
    "        else:\n",
    "            chars.add(char)    \n",
    "    return True   "
   ]
  },
  {
   "cell_type": "code",
   "execution_count": 2,
   "metadata": {},
   "outputs": [
    {
     "name": "stdout",
     "output_type": "stream",
     "text": [
      "5.52 µs ± 427 ns per loop (mean ± std. dev. of 7 runs, 100000 loops each)\n"
     ]
    }
   ],
   "source": [
    "%%timeit\n",
    "assert all_unique_chars('abca') == False\n",
    "assert all_unique_chars('apqt') == True\n",
    "assert all_unique_chars('Abad') == False"
   ]
  },
  {
   "cell_type": "code",
   "execution_count": 3,
   "metadata": {},
   "outputs": [],
   "source": [
    "def all_unique_chars_2(string):\n",
    "    if len(string) > 128:\n",
    "        return False\n",
    "    \n",
    "    flags = [False for _ in range(128)]\n",
    "    for char in string:\n",
    "        index = ord(char.lower())\n",
    "        if flags[index]:\n",
    "            return False\n",
    "        else:\n",
    "            flags[index] = True\n",
    "    return True"
   ]
  },
  {
   "cell_type": "code",
   "execution_count": 4,
   "metadata": {},
   "outputs": [
    {
     "name": "stdout",
     "output_type": "stream",
     "text": [
      "24.3 µs ± 5.75 µs per loop (mean ± std. dev. of 7 runs, 10000 loops each)\n"
     ]
    }
   ],
   "source": [
    "%%timeit\n",
    "assert all_unique_chars_2('abca') == False\n",
    "assert all_unique_chars_2('apqt') == True\n",
    "assert all_unique_chars_2('Abad') == False"
   ]
  },
  {
   "cell_type": "code",
   "execution_count": null,
   "metadata": {
    "collapsed": true
   },
   "outputs": [],
   "source": []
  }
 ],
 "metadata": {
  "kernelspec": {
   "display_name": "Python 3",
   "language": "python",
   "name": "python3"
  },
  "language_info": {
   "codemirror_mode": {
    "name": "ipython",
    "version": 3
   },
   "file_extension": ".py",
   "mimetype": "text/x-python",
   "name": "python",
   "nbconvert_exporter": "python",
   "pygments_lexer": "ipython3",
   "version": "3.6.3"
  }
 },
 "nbformat": 4,
 "nbformat_minor": 2
}
