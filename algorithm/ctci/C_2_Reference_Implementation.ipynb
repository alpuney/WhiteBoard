{
 "cells": [
  {
   "cell_type": "code",
   "execution_count": 1,
   "metadata": {
    "collapsed": true
   },
   "outputs": [],
   "source": [
    "class Node(object):\n",
    "    def __init__(self, data, next=None):\n",
    "        self.data = data\n",
    "        self.next = next\n",
    "        \n",
    "    def __str__(self):\n",
    "        return self.data"
   ]
  },
  {
   "cell_type": "code",
   "execution_count": 30,
   "metadata": {
    "collapsed": true
   },
   "outputs": [],
   "source": [
    "class LinkedList(object):\n",
    "    def __init__(self, head=None):\n",
    "        self.head = head\n",
    "        \n",
    "    def insert_to_front(self, data):\n",
    "        if data is None:\n",
    "            return data\n",
    "        node = Node(data, next=self.head)\n",
    "        self.head = node\n",
    "        return node\n",
    "    \n",
    "    def append(self, data):\n",
    "        if data is None:\n",
    "            return data\n",
    "        \n",
    "        node = Node(data)\n",
    "        if self.head is None:\n",
    "            self.head = node\n",
    "        else:\n",
    "            current = self.head\n",
    "            while current.next is not None:\n",
    "                current = current.next\n",
    "            current.next = node\n",
    "        return node            \n",
    "    \n",
    "    def get_all_data(self):\n",
    "        data = []\n",
    "        pointer = self.head\n",
    "        while pointer is not None:\n",
    "            data.append(pointer.data)\n",
    "            pointer = pointer.next\n",
    "        return data"
   ]
  },
  {
   "cell_type": "code",
   "execution_count": 31,
   "metadata": {},
   "outputs": [
    {
     "name": "stderr",
     "output_type": "stream",
     "text": [
      "..\n",
      "----------------------------------------------------------------------\n",
      "Ran 2 tests in 0.007s\n",
      "\n",
      "OK\n"
     ]
    }
   ],
   "source": [
    "import unittest\n",
    "\n",
    "class TestLinkedList(unittest.TestCase):\n",
    "    \n",
    "    def test_insert_to_front(self):\n",
    "        linked_list = LinkedList()\n",
    "        self.assertEqual(linked_list.get_all_data(), [])\n",
    "        \n",
    "        linked_list.insert_to_front('A')\n",
    "        self.assertEqual(linked_list.get_all_data(), ['A'])\n",
    "        \n",
    "        linked_list.insert_to_front('B')\n",
    "        linked_list.insert_to_front('C')\n",
    "        self.assertEqual(linked_list.get_all_data(), ['C', 'B', 'A'])\n",
    "        \n",
    "    def test_append(self):\n",
    "        linked_list = LinkedList()\n",
    "        \n",
    "        linked_list.append('A')        \n",
    "        self.assertEqual(linked_list.get_all_data(), ['A'])\n",
    "        \n",
    "        linked_list.append('B')\n",
    "        linked_list.append('C')\n",
    "        self.assertEqual(linked_list.get_all_data(), ['A', 'B', 'C'])\n",
    "        \n",
    "test = TestLinkedList()\n",
    "if  __name__== '__main__':\n",
    "    unittest.main(argv=['first-arg-is-ignored'], exit=False)"
   ]
  },
  {
   "cell_type": "code",
   "execution_count": 32,
   "metadata": {},
   "outputs": [
    {
     "name": "stdout",
     "output_type": "stream",
     "text": [
      "['A']\n",
      "['A', 'C']\n"
     ]
    }
   ],
   "source": [
    "l = LinkedList()\n",
    "l.append('A')\n",
    "print(l.get_all_data())\n",
    "\n",
    "l.append('C')\n",
    "print(l.get_all_data())"
   ]
  },
  {
   "cell_type": "code",
   "execution_count": 33,
   "metadata": {},
   "outputs": [
    {
     "data": {
      "text/plain": [
       "<__main__.Node at 0x7f11a82fde48>"
      ]
     },
     "execution_count": 33,
     "metadata": {},
     "output_type": "execute_result"
    }
   ],
   "source": [
    "l.insert_to_front('A')\n",
    "l.insert_to_front('b')\n",
    "l.insert_to_front('B')"
   ]
  },
  {
   "cell_type": "code",
   "execution_count": 34,
   "metadata": {},
   "outputs": [
    {
     "data": {
      "text/plain": [
       "['B', 'b', 'A', 'A', 'C']"
      ]
     },
     "execution_count": 34,
     "metadata": {},
     "output_type": "execute_result"
    }
   ],
   "source": [
    "l.get_all_data() "
   ]
  },
  {
   "cell_type": "code",
   "execution_count": 35,
   "metadata": {
    "collapsed": true
   },
   "outputs": [],
   "source": [
    "import numpy as np"
   ]
  },
  {
   "cell_type": "code",
   "execution_count": 37,
   "metadata": {},
   "outputs": [
    {
     "data": {
      "text/plain": [
       "3.7416573867739413"
      ]
     },
     "execution_count": 37,
     "metadata": {},
     "output_type": "execute_result"
    }
   ],
   "source": [
    "np.sqrt(16 - 2)"
   ]
  },
  {
   "cell_type": "code",
   "execution_count": null,
   "metadata": {
    "collapsed": true
   },
   "outputs": [],
   "source": []
  }
 ],
 "metadata": {
  "kernelspec": {
   "display_name": "Python 3",
   "language": "python",
   "name": "python3"
  },
  "language_info": {
   "codemirror_mode": {
    "name": "ipython",
    "version": 3
   },
   "file_extension": ".py",
   "mimetype": "text/x-python",
   "name": "python",
   "nbconvert_exporter": "python",
   "pygments_lexer": "ipython3",
   "version": "3.6.3"
  }
 },
 "nbformat": 4,
 "nbformat_minor": 2
}
