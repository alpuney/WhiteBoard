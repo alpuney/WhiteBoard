{
  "nbformat": 4,
  "nbformat_minor": 0,
  "metadata": {
    "kernelspec": {
      "display_name": "Python 3",
      "language": "python",
      "name": "python3"
    },
    "language_info": {
      "codemirror_mode": {
        "name": "ipython",
        "version": 3
      },
      "file_extension": ".py",
      "mimetype": "text/x-python",
      "name": "python",
      "nbconvert_exporter": "python",
      "pygments_lexer": "ipython3",
      "version": "3.6.1"
    },
    "colab": {
      "name": "ComputationalProbability.ipynb",
      "provenance": [],
      "include_colab_link": true
    }
  },
  "cells": [
    {
      "cell_type": "markdown",
      "metadata": {
        "id": "view-in-github",
        "colab_type": "text"
      },
      "source": [
        "<a href=\"https://colab.research.google.com/github/upul/WhiteBoard/blob/master/ComputationalProbability.ipynb\" target=\"_parent\"><img src=\"https://colab.research.google.com/assets/colab-badge.svg\" alt=\"Open In Colab\"/></a>"
      ]
    },
    {
      "cell_type": "code",
      "metadata": {
        "id": "PbXgYyw7la0J",
        "colab_type": "code",
        "colab": {}
      },
      "source": [
        "import numpy as np\n",
        "\n",
        "def bag(num_balls=6, num_white=1):\n",
        "    selection = np.random.choice(num_balls)\n",
        "    if selection < num_white:\n",
        "        return 'white'\n",
        "    else:\n",
        "        return 'no white'\n",
        "    "
      ],
      "execution_count": 0,
      "outputs": []
    },
    {
      "cell_type": "code",
      "metadata": {
        "id": "I2-3GRLGla0M",
        "colab_type": "code",
        "outputId": "b21640a6-6964-49fa-ee24-7c10874bec79",
        "colab": {
          "base_uri": "https://localhost:8080/",
          "height": 52
        }
      },
      "source": [
        "num_white = 0\n",
        "num_not_white =0\n",
        "\n",
        "NUM_DRAWS = 1000000\n",
        "for i in range(NUM_DRAWS):\n",
        "    choice = bag()\n",
        "    if choice == 'white':\n",
        "        num_white += 1\n",
        "    else:\n",
        "        num_not_white += 1\n",
        "print('white probability: {}'.format(num_white / NUM_DRAWS))\n",
        "print('non-white probability: {}'.format(num_not_white / NUM_DRAWS))"
      ],
      "execution_count": 5,
      "outputs": [
        {
          "output_type": "stream",
          "text": [
            "white probability: 0.166432\n",
            "non-white probability: 0.833568\n"
          ],
          "name": "stdout"
        }
      ]
    },
    {
      "cell_type": "code",
      "metadata": {
        "id": "Ps0-zyhkla0P",
        "colab_type": "code",
        "colab": {}
      },
      "source": [
        "\n",
        "            \n",
        "        "
      ],
      "execution_count": 0,
      "outputs": []
    },
    {
      "cell_type": "code",
      "metadata": {
        "id": "pJdmON5kla0R",
        "colab_type": "code",
        "outputId": "196deed0-3339-4050-99f2-478ba2283da9",
        "colab": {
          "base_uri": "https://localhost:8080/",
          "height": 35
        }
      },
      "source": [
        "5/6"
      ],
      "execution_count": 6,
      "outputs": [
        {
          "output_type": "execute_result",
          "data": {
            "text/plain": [
              "0.8333333333333334"
            ]
          },
          "metadata": {
            "tags": []
          },
          "execution_count": 6
        }
      ]
    },
    {
      "cell_type": "code",
      "metadata": {
        "id": "HeFEDaIvla0T",
        "colab_type": "code",
        "colab": {}
      },
      "source": [
        "# Upul Bandara"
      ],
      "execution_count": 0,
      "outputs": []
    }
  ]
}