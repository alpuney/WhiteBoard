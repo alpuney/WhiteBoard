{
 "cells": [
  {
   "cell_type": "code",
   "execution_count": 10,
   "metadata": {
    "collapsed": true
   },
   "outputs": [],
   "source": [
    "import numpy as np\n",
    "\n",
    "def bag(num_balls=6, num_white=1):\n",
    "    selection = np.random.choice(num_balls)\n",
    "    if selection < num_white:\n",
    "        return 'white'\n",
    "    else:\n",
    "        return 'no white'\n",
    "    "
   ]
  },
  {
   "cell_type": "code",
   "execution_count": 17,
   "metadata": {},
   "outputs": [
    {
     "name": "stdout",
     "output_type": "stream",
     "text": [
      "white probability: 0.166782\n",
      "non-white probability: 0.833218\n"
     ]
    }
   ],
   "source": [
    "num_white = 0\n",
    "num_not_white =0\n",
    "\n",
    "NUM_DRAWS = 1000000\n",
    "for i in range(NUM_DRAWS):\n",
    "    choice = bag()\n",
    "    if choice == 'white':\n",
    "        num_white += 1\n",
    "    else:\n",
    "        num_not_white += 1\n",
    "print('white probability: {}'.format(num_white / NUM_DRAWS))\n",
    "print('non-white probability: {}'.format(num_not_white / NUM_DRAWS))"
   ]
  },
  {
   "cell_type": "code",
   "execution_count": 14,
   "metadata": {},
   "outputs": [
    {
     "data": {
      "text/plain": [
       "0.16666666666666666"
      ]
     },
     "execution_count": 14,
     "metadata": {},
     "output_type": "execute_result"
    }
   ],
   "source": [
    "def all_non_white():\n",
    "    all_white = True\n",
    "    for i in range(100):\n",
    "        choice = bag()\n",
    "        if choice:\n",
    "            \n",
    "        "
   ]
  },
  {
   "cell_type": "code",
   "execution_count": 15,
   "metadata": {},
   "outputs": [
    {
     "data": {
      "text/plain": [
       "0.8333333333333334"
      ]
     },
     "execution_count": 15,
     "metadata": {},
     "output_type": "execute_result"
    }
   ],
   "source": [
    "5/6"
   ]
  },
  {
   "cell_type": "code",
   "execution_count": null,
   "metadata": {
    "collapsed": true
   },
   "outputs": [],
   "source": []
  }
 ],
 "metadata": {
  "kernelspec": {
   "display_name": "Python 3",
   "language": "python",
   "name": "python3"
  },
  "language_info": {
   "codemirror_mode": {
    "name": "ipython",
    "version": 3
   },
   "file_extension": ".py",
   "mimetype": "text/x-python",
   "name": "python",
   "nbconvert_exporter": "python",
   "pygments_lexer": "ipython3",
   "version": "3.6.1"
  }
 },
 "nbformat": 4,
 "nbformat_minor": 2
}
