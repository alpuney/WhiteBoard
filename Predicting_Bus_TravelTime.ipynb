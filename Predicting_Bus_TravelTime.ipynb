{
 "cells": [
  {
   "cell_type": "code",
   "execution_count": 62,
   "metadata": {
    "collapsed": true
   },
   "outputs": [],
   "source": [
    "import pandas as pd\n",
    "import numpy as np\n",
    "\n",
    "from sklearn.linear_model import LinearRegression\n",
    "from sklearn.ensemble import RandomForestRegressor\n",
    "from sklearn.cross_validation import KFold\n",
    "from sklearn.metrics import mean_squared_error"
   ]
  },
  {
   "cell_type": "code",
   "execution_count": 63,
   "metadata": {
    "collapsed": false
   },
   "outputs": [
    {
     "data": {
      "text/html": [
       "<div>\n",
       "<table border=\"1\" class=\"dataframe\">\n",
       "  <thead>\n",
       "    <tr style=\"text-align: right;\">\n",
       "      <th></th>\n",
       "      <th>t_hour</th>\n",
       "      <th>line</th>\n",
       "      <th>sequence</th>\n",
       "      <th>direction</th>\n",
       "      <th>timetaken</th>\n",
       "    </tr>\n",
       "  </thead>\n",
       "  <tbody>\n",
       "    <tr>\n",
       "      <th>0</th>\n",
       "      <td>11</td>\n",
       "      <td>25</td>\n",
       "      <td>37</td>\n",
       "      <td>1</td>\n",
       "      <td>5001</td>\n",
       "    </tr>\n",
       "    <tr>\n",
       "      <th>1</th>\n",
       "      <td>11</td>\n",
       "      <td>38</td>\n",
       "      <td>26</td>\n",
       "      <td>2</td>\n",
       "      <td>10000</td>\n",
       "    </tr>\n",
       "    <tr>\n",
       "      <th>2</th>\n",
       "      <td>11</td>\n",
       "      <td>38</td>\n",
       "      <td>22</td>\n",
       "      <td>1</td>\n",
       "      <td>14996</td>\n",
       "    </tr>\n",
       "    <tr>\n",
       "      <th>3</th>\n",
       "      <td>11</td>\n",
       "      <td>29</td>\n",
       "      <td>20</td>\n",
       "      <td>2</td>\n",
       "      <td>29994</td>\n",
       "    </tr>\n",
       "    <tr>\n",
       "      <th>4</th>\n",
       "      <td>11</td>\n",
       "      <td>25</td>\n",
       "      <td>41</td>\n",
       "      <td>1</td>\n",
       "      <td>34996</td>\n",
       "    </tr>\n",
       "  </tbody>\n",
       "</table>\n",
       "</div>"
      ],
      "text/plain": [
       "   t_hour  line  sequence  direction  timetaken\n",
       "0      11    25        37          1       5001\n",
       "1      11    38        26          2      10000\n",
       "2      11    38        22          1      14996\n",
       "3      11    29        20          2      29994\n",
       "4      11    25        41          1      34996"
      ]
     },
     "execution_count": 63,
     "metadata": {},
     "output_type": "execute_result"
    }
   ],
   "source": [
    "data = pd.read_csv('./data/time-between-stops-0105.csv')\n",
    "data.head(5)"
   ]
  },
  {
   "cell_type": "code",
   "execution_count": 64,
   "metadata": {
    "collapsed": false
   },
   "outputs": [],
   "source": [
    "#?pd.get_dummies\n",
    "encoded_data = pd.concat([pd.get_dummies(data['t_hour'], prefix='t'),\n",
    "                         pd.get_dummies(data['line'], prefix='l'),\n",
    "                         pd.get_dummies(data['sequence'], prefix='s'),\n",
    "                         pd.get_dummies(data['direction'], prefix='d')], axis=1)\n",
    "train_y = data['timetaken'].values\n",
    "train_X = encoded_data.values"
   ]
  },
  {
   "cell_type": "code",
   "execution_count": 68,
   "metadata": {
    "collapsed": false
   },
   "outputs": [
    {
     "name": "stdout",
     "output_type": "stream",
     "text": [
      "train mse: 5.995030e+13\n",
      "test mse: 4.256050e+14\n",
      "\n",
      "\n",
      "train mse: 5.150394e+13\n",
      "test mse: 2.951654e+14\n",
      "\n",
      "\n",
      "train mse: 1.001386e+14\n",
      "test mse: 6.375845e+12\n",
      "\n",
      "\n",
      "train mse: 6.859734e+13\n",
      "test mse: 2.924730e+14\n",
      "\n",
      "\n",
      "train mse: 6.753315e+13\n",
      "test mse: 2.202858e+14\n",
      "\n",
      "\n",
      "average train mse: 6.954467e+13\n",
      "average test mse: 2.479810e+14\n"
     ]
    }
   ],
   "source": [
    "kfold = KFold(train_y.shape[0], n_folds=5, shuffle=True)\n",
    "train_mses = []\n",
    "test_mses = []\n",
    "for tr_idx, te_idx in kfold:\n",
    "    train_cv_X = train_X[tr_idx]\n",
    "    train_cv_y = train_y[tr_idx]\n",
    "    \n",
    "    test_cv_X = train_X[te_idx]\n",
    "    test_cv_y = train_y[te_idx]\n",
    "    \n",
    "    lr = RandomForestRegressor(n_estimators=100)\n",
    "    lr.fit(train_cv_X, train_cv_y)\n",
    "    train_predict = lr.predict(train_cv_X)\n",
    "    test_predict = lr.predict(test_cv_X)\n",
    "    \n",
    "    train_mse = mean_squared_error(train_cv_y, train_predict)\n",
    "    test_mse = mean_squared_error(test_cv_y, test_predict)\n",
    "    \n",
    "    train_mses.append(train_mse)\n",
    "    test_mses.append(test_mse)\n",
    "    print 'train mse: %e' %(train_mse)\n",
    "    print 'test mse: %e' %(test_mse)\n",
    "    print '\\n'\n",
    "    \n",
    "print 'average train mse: %e' %(sum(train_mses)/len(train_mses))\n",
    "print 'average test mse: %e' %(sum(test_mses)/len(test_mses))"
   ]
  },
  {
   "cell_type": "code",
   "execution_count": null,
   "metadata": {
    "collapsed": true
   },
   "outputs": [],
   "source": []
  }
 ],
 "metadata": {
  "kernelspec": {
   "display_name": "Python 2",
   "language": "python",
   "name": "python2"
  },
  "language_info": {
   "codemirror_mode": {
    "name": "ipython",
    "version": 2
   },
   "file_extension": ".py",
   "mimetype": "text/x-python",
   "name": "python",
   "nbconvert_exporter": "python",
   "pygments_lexer": "ipython2",
   "version": "2.7.11"
  }
 },
 "nbformat": 4,
 "nbformat_minor": 0
}
